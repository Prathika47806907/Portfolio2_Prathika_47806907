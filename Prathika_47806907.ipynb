{
 "cells": [
  {
   "cell_type": "markdown",
   "id": "Z88FfJc9lA_T",
   "metadata": {
    "id": "Z88FfJc9lA_T"
   },
   "source": [
    "## Analysis of an E-commerce Dataset Part 2"
   ]
  },
  {
   "cell_type": "markdown",
   "id": "hoq0NwA9lA_V",
   "metadata": {
    "id": "hoq0NwA9lA_V"
   },
   "source": [
    "The goal of the second analysis task is to train linear regression models to predict users' ratings towards items. This involves a standard Data Science workflow: exploring data, building models, making predictions, and evaluating results. In this task, we will explore the impacts of feature selections and different sizes of training/testing data on the model performance. We will use another cleaned combined e-commerce sub-dataset that **is different from** the one in “Analysis of an E-commerce Dataset” task 1."
   ]
  },
  {
   "cell_type": "code",
   "execution_count": 1,
   "id": "5fb299ac",
   "metadata": {},
   "outputs": [],
   "source": [
    "# Pandas -> This imports the 'pandas' library and provides the alias as 'pd'.\n",
    "import pandas as pd \n",
    "\n",
    "# Numpy -> This imports the 'numpy' library and provides the alias as 'np'.\n",
    "import numpy as np\n",
    "\n",
    "# subpackage of Matplotlib -> This imports the 'matplotlib' library and provides the alias of 'plt'.\n",
    "import matplotlib.pyplot as plt\n",
    "\n",
    "# Seaborn -> This imports the 'seaborn' library and provides it with the alias 'sns'.\n",
    "import seaborn as sns\n",
    "\n",
    "# To suppress warnings -> This imports the 'warnings' module into our Python environment.\n",
    "from warnings import filterwarnings # The 'warnings' module provides functions for controlling how warnings are processed.\n",
    "filterwarnings('ignore') #This function is a string that specifies how the warnings should be filtered.\n",
    "                         #The string 'ignore' tells the function to ignore all warnings.\n",
    "\n"
   ]
  },
  {
   "cell_type": "code",
   "execution_count": 2,
   "id": "47dadf08",
   "metadata": {},
   "outputs": [],
   "source": [
    "# This Statemnt is used to display all the coloumns of our DataFrame, regardless of the number of columns.\n",
    "pd.options.display.max_columns = None\n",
    "# This Statemnt is used to display all the rows of our DataFrame, regardless of the number of rows.\n",
    "pd.options.display.max_rows = None\n",
    "\n",
    "#The 'float_format' tells Pandas to display floats with 6 decimal places. \n",
    "pd.options.display.float_format = '{:.6f}'.format\n",
    "# The 'train_test_split' function is used to split a dataset into two subsets: a training set and a test set. \n",
    "from sklearn.model_selection import train_test_split\n",
    "\n",
    "# This imports the stats module from the 'SciPy' library. This module contains correlation functions. \n",
    "from scipy import stats\n",
    "# The 'metrics' from sklearn is used for evaluating the model performance\n",
    "from sklearn.metrics import mean_absolute_error #This function is used to calculate the mean absolute error between two sets of values.\n",
    "from sklearn.metrics import mean_squared_error #This function is used to calculate the mean squared error between two sets of values.\n",
    "from sklearn.preprocessing import OrdinalEncoder #This class is used to encode categorical data into ordinal values.\n",
    "\n",
    "#This imports the 'LinearRegression' class from the scikit-learn library.\n",
    "from sklearn.linear_model import LinearRegression"
   ]
  },
  {
   "cell_type": "markdown",
   "id": "f9fd3NU_lA_W",
   "metadata": {
    "id": "f9fd3NU_lA_W"
   },
   "source": [
    "### Import Cleaned E-commerce Dataset\n",
    "The csv file named 'cleaned_ecommerce_dataset.csv' is provided. You may need to use the Pandas method, i.e., `read_csv`, for reading it. After that, please print out its total length."
   ]
  },
  {
   "cell_type": "code",
   "execution_count": 3,
   "id": "76c9b783",
   "metadata": {},
   "outputs": [
    {
     "data": {
      "text/html": [
       "<div>\n",
       "<style scoped>\n",
       "    .dataframe tbody tr th:only-of-type {\n",
       "        vertical-align: middle;\n",
       "    }\n",
       "\n",
       "    .dataframe tbody tr th {\n",
       "        vertical-align: top;\n",
       "    }\n",
       "\n",
       "    .dataframe thead th {\n",
       "        text-align: right;\n",
       "    }\n",
       "</style>\n",
       "<table border=\"1\" class=\"dataframe\">\n",
       "  <thead>\n",
       "    <tr style=\"text-align: right;\">\n",
       "      <th></th>\n",
       "      <th>userId</th>\n",
       "      <th>timestamp</th>\n",
       "      <th>review</th>\n",
       "      <th>item</th>\n",
       "      <th>rating</th>\n",
       "      <th>helpfulness</th>\n",
       "      <th>gender</th>\n",
       "      <th>category</th>\n",
       "      <th>item_id</th>\n",
       "      <th>item_price</th>\n",
       "      <th>user_city</th>\n",
       "    </tr>\n",
       "  </thead>\n",
       "  <tbody>\n",
       "    <tr>\n",
       "      <th>0</th>\n",
       "      <td>4081</td>\n",
       "      <td>71900</td>\n",
       "      <td>Not always McCrap</td>\n",
       "      <td>McDonald's</td>\n",
       "      <td>4.000000</td>\n",
       "      <td>3.000000</td>\n",
       "      <td>M</td>\n",
       "      <td>Restaurants &amp; Gourmet</td>\n",
       "      <td>41</td>\n",
       "      <td>30.740000</td>\n",
       "      <td>4</td>\n",
       "    </tr>\n",
       "    <tr>\n",
       "      <th>1</th>\n",
       "      <td>4081</td>\n",
       "      <td>72000</td>\n",
       "      <td>I dropped the chalupa even before he told me to</td>\n",
       "      <td>Taco Bell</td>\n",
       "      <td>1.000000</td>\n",
       "      <td>4.000000</td>\n",
       "      <td>M</td>\n",
       "      <td>Restaurants &amp; Gourmet</td>\n",
       "      <td>74</td>\n",
       "      <td>108.300000</td>\n",
       "      <td>4</td>\n",
       "    </tr>\n",
       "    <tr>\n",
       "      <th>2</th>\n",
       "      <td>4081</td>\n",
       "      <td>72000</td>\n",
       "      <td>The Wonderful World of Wendy</td>\n",
       "      <td>Wendy's</td>\n",
       "      <td>5.000000</td>\n",
       "      <td>4.000000</td>\n",
       "      <td>M</td>\n",
       "      <td>Restaurants &amp; Gourmet</td>\n",
       "      <td>84</td>\n",
       "      <td>69.000000</td>\n",
       "      <td>4</td>\n",
       "    </tr>\n",
       "    <tr>\n",
       "      <th>3</th>\n",
       "      <td>4081</td>\n",
       "      <td>100399</td>\n",
       "      <td>They actually did it</td>\n",
       "      <td>South Park: Bigger, Longer &amp; Uncut</td>\n",
       "      <td>5.000000</td>\n",
       "      <td>3.000000</td>\n",
       "      <td>M</td>\n",
       "      <td>Movies</td>\n",
       "      <td>68</td>\n",
       "      <td>143.110000</td>\n",
       "      <td>4</td>\n",
       "    </tr>\n",
       "    <tr>\n",
       "      <th>4</th>\n",
       "      <td>4081</td>\n",
       "      <td>100399</td>\n",
       "      <td>Hey! Gimme some pie!</td>\n",
       "      <td>American Pie</td>\n",
       "      <td>3.000000</td>\n",
       "      <td>3.000000</td>\n",
       "      <td>M</td>\n",
       "      <td>Movies</td>\n",
       "      <td>6</td>\n",
       "      <td>117.890000</td>\n",
       "      <td>4</td>\n",
       "    </tr>\n",
       "  </tbody>\n",
       "</table>\n",
       "</div>"
      ],
      "text/plain": [
       "   userId  timestamp                                           review  \\\n",
       "0    4081      71900                                Not always McCrap   \n",
       "1    4081      72000  I dropped the chalupa even before he told me to   \n",
       "2    4081      72000                     The Wonderful World of Wendy   \n",
       "3    4081     100399                             They actually did it   \n",
       "4    4081     100399                             Hey! Gimme some pie!   \n",
       "\n",
       "                                 item   rating  helpfulness gender  \\\n",
       "0                          McDonald's 4.000000     3.000000      M   \n",
       "1                           Taco Bell 1.000000     4.000000      M   \n",
       "2                             Wendy's 5.000000     4.000000      M   \n",
       "3  South Park: Bigger, Longer & Uncut 5.000000     3.000000      M   \n",
       "4                        American Pie 3.000000     3.000000      M   \n",
       "\n",
       "                category  item_id  item_price  user_city  \n",
       "0  Restaurants & Gourmet       41   30.740000          4  \n",
       "1  Restaurants & Gourmet       74  108.300000          4  \n",
       "2  Restaurants & Gourmet       84   69.000000          4  \n",
       "3                 Movies       68  143.110000          4  \n",
       "4                 Movies        6  117.890000          4  "
      ]
     },
     "execution_count": 3,
     "metadata": {},
     "output_type": "execute_result"
    }
   ],
   "source": [
    "df=pd.read_csv(\"C:/Users/fiske/Downloads/DataScience_Portfolio/Portfolio2_Prathika_47806907/cleaned_ecommerce_dataset.csv\") \n",
    "df.head()"
   ]
  },
  {
   "cell_type": "code",
   "execution_count": 4,
   "id": "c89ec623",
   "metadata": {},
   "outputs": [
    {
     "name": "stdout",
     "output_type": "stream",
     "text": [
      "The DataFrame has 2685 rows.\n"
     ]
    }
   ],
   "source": [
    "row_count = len(df) #The len() function returns the number of rows in the DataFrame.\n",
    "print(f'The DataFrame has {row_count} rows.') "
   ]
  },
  {
   "cell_type": "code",
   "execution_count": 5,
   "id": "39069cf9",
   "metadata": {},
   "outputs": [
    {
     "data": {
      "text/plain": [
       "(2685, 11)"
      ]
     },
     "execution_count": 5,
     "metadata": {},
     "output_type": "execute_result"
    }
   ],
   "source": [
    "df.shape"
   ]
  },
  {
   "cell_type": "markdown",
   "id": "aqbuU6rglA_X",
   "metadata": {
    "id": "aqbuU6rglA_X"
   },
   "source": [
    "### Explore the Dataset\n",
    "\n",
    "* Use the methods, i.e., `head()` and `info()`, to have a rough picture about the data, e.g., how many columns, and the data types of each column.\n",
    "* As our goal is to predict ratings given other columns, please get the correlations between helpfulness/gender/category/review and rating by using the `corr()` method.\n",
    "* To get the correlations between different features, you may need to first convert the categorical features (i.e., gender, category and review) into numerial values. For doing this, you may need to import `OrdinalEncoder` from `sklearn.preprocessing` (refer to the useful exmaples [here](https://pbpython.com/categorical-encoding.html))\n",
    "* Please provide ___necessary explanations/analysis___ on the correlations, and figure out which are the ___most___ and ___least___ corrleated features regarding rating. Try to ___discuss___ how the correlation will affect the final prediction results, if we use these features to train a regression model for rating prediction. In what follows, we will conduct experiments to verify your hypothesis."
   ]
  },
  {
   "cell_type": "code",
   "execution_count": 6,
   "id": "W3PImHiElA_X",
   "metadata": {
    "id": "W3PImHiElA_X",
    "scrolled": true
   },
   "outputs": [
    {
     "data": {
      "text/html": [
       "<div>\n",
       "<style scoped>\n",
       "    .dataframe tbody tr th:only-of-type {\n",
       "        vertical-align: middle;\n",
       "    }\n",
       "\n",
       "    .dataframe tbody tr th {\n",
       "        vertical-align: top;\n",
       "    }\n",
       "\n",
       "    .dataframe thead th {\n",
       "        text-align: right;\n",
       "    }\n",
       "</style>\n",
       "<table border=\"1\" class=\"dataframe\">\n",
       "  <thead>\n",
       "    <tr style=\"text-align: right;\">\n",
       "      <th></th>\n",
       "      <th>userId</th>\n",
       "      <th>timestamp</th>\n",
       "      <th>review</th>\n",
       "      <th>item</th>\n",
       "      <th>rating</th>\n",
       "      <th>helpfulness</th>\n",
       "      <th>gender</th>\n",
       "      <th>category</th>\n",
       "      <th>item_id</th>\n",
       "      <th>item_price</th>\n",
       "      <th>user_city</th>\n",
       "    </tr>\n",
       "  </thead>\n",
       "  <tbody>\n",
       "    <tr>\n",
       "      <th>0</th>\n",
       "      <td>4081</td>\n",
       "      <td>71900</td>\n",
       "      <td>Not always McCrap</td>\n",
       "      <td>McDonald's</td>\n",
       "      <td>4.000000</td>\n",
       "      <td>3.000000</td>\n",
       "      <td>M</td>\n",
       "      <td>Restaurants &amp; Gourmet</td>\n",
       "      <td>41</td>\n",
       "      <td>30.740000</td>\n",
       "      <td>4</td>\n",
       "    </tr>\n",
       "    <tr>\n",
       "      <th>1</th>\n",
       "      <td>4081</td>\n",
       "      <td>72000</td>\n",
       "      <td>I dropped the chalupa even before he told me to</td>\n",
       "      <td>Taco Bell</td>\n",
       "      <td>1.000000</td>\n",
       "      <td>4.000000</td>\n",
       "      <td>M</td>\n",
       "      <td>Restaurants &amp; Gourmet</td>\n",
       "      <td>74</td>\n",
       "      <td>108.300000</td>\n",
       "      <td>4</td>\n",
       "    </tr>\n",
       "    <tr>\n",
       "      <th>2</th>\n",
       "      <td>4081</td>\n",
       "      <td>72000</td>\n",
       "      <td>The Wonderful World of Wendy</td>\n",
       "      <td>Wendy's</td>\n",
       "      <td>5.000000</td>\n",
       "      <td>4.000000</td>\n",
       "      <td>M</td>\n",
       "      <td>Restaurants &amp; Gourmet</td>\n",
       "      <td>84</td>\n",
       "      <td>69.000000</td>\n",
       "      <td>4</td>\n",
       "    </tr>\n",
       "    <tr>\n",
       "      <th>3</th>\n",
       "      <td>4081</td>\n",
       "      <td>100399</td>\n",
       "      <td>They actually did it</td>\n",
       "      <td>South Park: Bigger, Longer &amp; Uncut</td>\n",
       "      <td>5.000000</td>\n",
       "      <td>3.000000</td>\n",
       "      <td>M</td>\n",
       "      <td>Movies</td>\n",
       "      <td>68</td>\n",
       "      <td>143.110000</td>\n",
       "      <td>4</td>\n",
       "    </tr>\n",
       "    <tr>\n",
       "      <th>4</th>\n",
       "      <td>4081</td>\n",
       "      <td>100399</td>\n",
       "      <td>Hey! Gimme some pie!</td>\n",
       "      <td>American Pie</td>\n",
       "      <td>3.000000</td>\n",
       "      <td>3.000000</td>\n",
       "      <td>M</td>\n",
       "      <td>Movies</td>\n",
       "      <td>6</td>\n",
       "      <td>117.890000</td>\n",
       "      <td>4</td>\n",
       "    </tr>\n",
       "    <tr>\n",
       "      <th>5</th>\n",
       "      <td>4081</td>\n",
       "      <td>100399</td>\n",
       "      <td>Good for sci-fi</td>\n",
       "      <td>Matrix</td>\n",
       "      <td>3.000000</td>\n",
       "      <td>3.000000</td>\n",
       "      <td>M</td>\n",
       "      <td>Movies</td>\n",
       "      <td>40</td>\n",
       "      <td>24.510000</td>\n",
       "      <td>4</td>\n",
       "    </tr>\n",
       "    <tr>\n",
       "      <th>6</th>\n",
       "      <td>4081</td>\n",
       "      <td>100399</td>\n",
       "      <td>Scary? you bet!</td>\n",
       "      <td>Blair Witch Project</td>\n",
       "      <td>4.000000</td>\n",
       "      <td>3.000000</td>\n",
       "      <td>M</td>\n",
       "      <td>Movies</td>\n",
       "      <td>12</td>\n",
       "      <td>44.000000</td>\n",
       "      <td>4</td>\n",
       "    </tr>\n",
       "    <tr>\n",
       "      <th>7</th>\n",
       "      <td>4081</td>\n",
       "      <td>101899</td>\n",
       "      <td>Fox - the 4th basic channel</td>\n",
       "      <td>FOX</td>\n",
       "      <td>4.000000</td>\n",
       "      <td>4.000000</td>\n",
       "      <td>M</td>\n",
       "      <td>Media</td>\n",
       "      <td>25</td>\n",
       "      <td>80.000000</td>\n",
       "      <td>4</td>\n",
       "    </tr>\n",
       "    <tr>\n",
       "      <th>8</th>\n",
       "      <td>4081</td>\n",
       "      <td>112099</td>\n",
       "      <td>Amen!</td>\n",
       "      <td>Dogma</td>\n",
       "      <td>4.000000</td>\n",
       "      <td>3.000000</td>\n",
       "      <td>M</td>\n",
       "      <td>Movies</td>\n",
       "      <td>22</td>\n",
       "      <td>87.590000</td>\n",
       "      <td>4</td>\n",
       "    </tr>\n",
       "    <tr>\n",
       "      <th>9</th>\n",
       "      <td>4081</td>\n",
       "      <td>122899</td>\n",
       "      <td>mama mia!</td>\n",
       "      <td>Olive Garden</td>\n",
       "      <td>4.000000</td>\n",
       "      <td>3.000000</td>\n",
       "      <td>M</td>\n",
       "      <td>Restaurants &amp; Gourmet</td>\n",
       "      <td>49</td>\n",
       "      <td>32.000000</td>\n",
       "      <td>4</td>\n",
       "    </tr>\n",
       "    <tr>\n",
       "      <th>10</th>\n",
       "      <td>4081</td>\n",
       "      <td>122999</td>\n",
       "      <td>Let's go Furby hunting, Pa</td>\n",
       "      <td>The Original Furby</td>\n",
       "      <td>1.000000</td>\n",
       "      <td>3.000000</td>\n",
       "      <td>M</td>\n",
       "      <td>Kids &amp; Family</td>\n",
       "      <td>78</td>\n",
       "      <td>22.380000</td>\n",
       "      <td>4</td>\n",
       "    </tr>\n",
       "    <tr>\n",
       "      <th>11</th>\n",
       "      <td>4159</td>\n",
       "      <td>22304</td>\n",
       "      <td>Good Steak for a Good Value</td>\n",
       "      <td>Outback Steakhouse</td>\n",
       "      <td>4.000000</td>\n",
       "      <td>4.000000</td>\n",
       "      <td>M</td>\n",
       "      <td>Restaurants &amp; Gourmet</td>\n",
       "      <td>50</td>\n",
       "      <td>25.000000</td>\n",
       "      <td>10</td>\n",
       "    </tr>\n",
       "    <tr>\n",
       "      <th>12</th>\n",
       "      <td>4159</td>\n",
       "      <td>60203</td>\n",
       "      <td>Although very simple to use, it is powerful an...</td>\n",
       "      <td>Google</td>\n",
       "      <td>5.000000</td>\n",
       "      <td>4.000000</td>\n",
       "      <td>M</td>\n",
       "      <td>Online Stores &amp; Services</td>\n",
       "      <td>32</td>\n",
       "      <td>100.620000</td>\n",
       "      <td>10</td>\n",
       "    </tr>\n",
       "    <tr>\n",
       "      <th>13</th>\n",
       "      <td>4159</td>\n",
       "      <td>70400</td>\n",
       "      <td>Good service but  too many busy signals</td>\n",
       "      <td>NetZero</td>\n",
       "      <td>3.000000</td>\n",
       "      <td>3.000000</td>\n",
       "      <td>M</td>\n",
       "      <td>Online Stores &amp; Services</td>\n",
       "      <td>46</td>\n",
       "      <td>53.000000</td>\n",
       "      <td>10</td>\n",
       "    </tr>\n",
       "    <tr>\n",
       "      <th>14</th>\n",
       "      <td>4159</td>\n",
       "      <td>70500</td>\n",
       "      <td>decent quick food</td>\n",
       "      <td>Taco Bell</td>\n",
       "      <td>3.000000</td>\n",
       "      <td>4.000000</td>\n",
       "      <td>M</td>\n",
       "      <td>Restaurants &amp; Gourmet</td>\n",
       "      <td>74</td>\n",
       "      <td>108.300000</td>\n",
       "      <td>10</td>\n",
       "    </tr>\n",
       "    <tr>\n",
       "      <th>15</th>\n",
       "      <td>4159</td>\n",
       "      <td>70500</td>\n",
       "      <td>good fast food with caution</td>\n",
       "      <td>Burger King</td>\n",
       "      <td>2.000000</td>\n",
       "      <td>3.000000</td>\n",
       "      <td>M</td>\n",
       "      <td>Restaurants &amp; Gourmet</td>\n",
       "      <td>16</td>\n",
       "      <td>49.000000</td>\n",
       "      <td>10</td>\n",
       "    </tr>\n",
       "    <tr>\n",
       "      <th>16</th>\n",
       "      <td>4159</td>\n",
       "      <td>70700</td>\n",
       "      <td>good fast food</td>\n",
       "      <td>Wendy's</td>\n",
       "      <td>4.000000</td>\n",
       "      <td>4.000000</td>\n",
       "      <td>M</td>\n",
       "      <td>Restaurants &amp; Gourmet</td>\n",
       "      <td>84</td>\n",
       "      <td>69.000000</td>\n",
       "      <td>10</td>\n",
       "    </tr>\n",
       "    <tr>\n",
       "      <th>17</th>\n",
       "      <td>4159</td>\n",
       "      <td>72500</td>\n",
       "      <td>food fast but service ain't</td>\n",
       "      <td>McDonald's</td>\n",
       "      <td>2.000000</td>\n",
       "      <td>4.000000</td>\n",
       "      <td>M</td>\n",
       "      <td>Restaurants &amp; Gourmet</td>\n",
       "      <td>41</td>\n",
       "      <td>30.740000</td>\n",
       "      <td>10</td>\n",
       "    </tr>\n",
       "    <tr>\n",
       "      <th>18</th>\n",
       "      <td>4159</td>\n",
       "      <td>91405</td>\n",
       "      <td>Great deal for those who watch a LOT of movies</td>\n",
       "      <td>NetFlix</td>\n",
       "      <td>4.000000</td>\n",
       "      <td>4.000000</td>\n",
       "      <td>M</td>\n",
       "      <td>Online Stores &amp; Services</td>\n",
       "      <td>45</td>\n",
       "      <td>94.540000</td>\n",
       "      <td>10</td>\n",
       "    </tr>\n",
       "    <tr>\n",
       "      <th>19</th>\n",
       "      <td>50</td>\n",
       "      <td>21900</td>\n",
       "      <td>MTV has really gone downhill - part II</td>\n",
       "      <td>MTV</td>\n",
       "      <td>1.000000</td>\n",
       "      <td>4.000000</td>\n",
       "      <td>F</td>\n",
       "      <td>Media</td>\n",
       "      <td>39</td>\n",
       "      <td>138.000000</td>\n",
       "      <td>9</td>\n",
       "    </tr>\n",
       "  </tbody>\n",
       "</table>\n",
       "</div>"
      ],
      "text/plain": [
       "    userId  timestamp                                             review  \\\n",
       "0     4081      71900                                  Not always McCrap   \n",
       "1     4081      72000    I dropped the chalupa even before he told me to   \n",
       "2     4081      72000                       The Wonderful World of Wendy   \n",
       "3     4081     100399                               They actually did it   \n",
       "4     4081     100399                               Hey! Gimme some pie!   \n",
       "5     4081     100399                                    Good for sci-fi   \n",
       "6     4081     100399                                    Scary? you bet!   \n",
       "7     4081     101899                        Fox - the 4th basic channel   \n",
       "8     4081     112099                                              Amen!   \n",
       "9     4081     122899                                          mama mia!   \n",
       "10    4081     122999                         Let's go Furby hunting, Pa   \n",
       "11    4159      22304                        Good Steak for a Good Value   \n",
       "12    4159      60203  Although very simple to use, it is powerful an...   \n",
       "13    4159      70400            Good service but  too many busy signals   \n",
       "14    4159      70500                                  decent quick food   \n",
       "15    4159      70500                        good fast food with caution   \n",
       "16    4159      70700                                     good fast food   \n",
       "17    4159      72500                        food fast but service ain't   \n",
       "18    4159      91405     Great deal for those who watch a LOT of movies   \n",
       "19      50      21900             MTV has really gone downhill - part II   \n",
       "\n",
       "                                  item   rating  helpfulness gender  \\\n",
       "0                           McDonald's 4.000000     3.000000      M   \n",
       "1                            Taco Bell 1.000000     4.000000      M   \n",
       "2                              Wendy's 5.000000     4.000000      M   \n",
       "3   South Park: Bigger, Longer & Uncut 5.000000     3.000000      M   \n",
       "4                         American Pie 3.000000     3.000000      M   \n",
       "5                               Matrix 3.000000     3.000000      M   \n",
       "6                  Blair Witch Project 4.000000     3.000000      M   \n",
       "7                                  FOX 4.000000     4.000000      M   \n",
       "8                                Dogma 4.000000     3.000000      M   \n",
       "9                         Olive Garden 4.000000     3.000000      M   \n",
       "10                  The Original Furby 1.000000     3.000000      M   \n",
       "11                  Outback Steakhouse 4.000000     4.000000      M   \n",
       "12                              Google 5.000000     4.000000      M   \n",
       "13                             NetZero 3.000000     3.000000      M   \n",
       "14                           Taco Bell 3.000000     4.000000      M   \n",
       "15                         Burger King 2.000000     3.000000      M   \n",
       "16                             Wendy's 4.000000     4.000000      M   \n",
       "17                          McDonald's 2.000000     4.000000      M   \n",
       "18                             NetFlix 4.000000     4.000000      M   \n",
       "19                                 MTV 1.000000     4.000000      F   \n",
       "\n",
       "                    category  item_id  item_price  user_city  \n",
       "0      Restaurants & Gourmet       41   30.740000          4  \n",
       "1      Restaurants & Gourmet       74  108.300000          4  \n",
       "2      Restaurants & Gourmet       84   69.000000          4  \n",
       "3                     Movies       68  143.110000          4  \n",
       "4                     Movies        6  117.890000          4  \n",
       "5                     Movies       40   24.510000          4  \n",
       "6                     Movies       12   44.000000          4  \n",
       "7                      Media       25   80.000000          4  \n",
       "8                     Movies       22   87.590000          4  \n",
       "9      Restaurants & Gourmet       49   32.000000          4  \n",
       "10             Kids & Family       78   22.380000          4  \n",
       "11     Restaurants & Gourmet       50   25.000000         10  \n",
       "12  Online Stores & Services       32  100.620000         10  \n",
       "13  Online Stores & Services       46   53.000000         10  \n",
       "14     Restaurants & Gourmet       74  108.300000         10  \n",
       "15     Restaurants & Gourmet       16   49.000000         10  \n",
       "16     Restaurants & Gourmet       84   69.000000         10  \n",
       "17     Restaurants & Gourmet       41   30.740000         10  \n",
       "18  Online Stores & Services       45   94.540000         10  \n",
       "19                     Media       39  138.000000          9  "
      ]
     },
     "execution_count": 6,
     "metadata": {},
     "output_type": "execute_result"
    }
   ],
   "source": [
    "df.head(20)"
   ]
  },
  {
   "cell_type": "code",
   "execution_count": 7,
   "id": "6cc8a015",
   "metadata": {
    "scrolled": true
   },
   "outputs": [
    {
     "name": "stdout",
     "output_type": "stream",
     "text": [
      "<class 'pandas.core.frame.DataFrame'>\n",
      "RangeIndex: 2685 entries, 0 to 2684\n",
      "Data columns (total 11 columns):\n",
      " #   Column       Non-Null Count  Dtype  \n",
      "---  ------       --------------  -----  \n",
      " 0   userId       2685 non-null   int64  \n",
      " 1   timestamp    2685 non-null   int64  \n",
      " 2   review       2685 non-null   object \n",
      " 3   item         2685 non-null   object \n",
      " 4   rating       2685 non-null   float64\n",
      " 5   helpfulness  2685 non-null   float64\n",
      " 6   gender       2685 non-null   object \n",
      " 7   category     2685 non-null   object \n",
      " 8   item_id      2685 non-null   int64  \n",
      " 9   item_price   2685 non-null   float64\n",
      " 10  user_city    2685 non-null   int64  \n",
      "dtypes: float64(3), int64(4), object(4)\n",
      "memory usage: 230.9+ KB\n"
     ]
    }
   ],
   "source": [
    "df.info()"
   ]
  },
  {
   "cell_type": "code",
   "execution_count": 8,
   "id": "0a463968",
   "metadata": {
    "scrolled": false
   },
   "outputs": [
    {
     "data": {
      "text/plain": [
       "userId           int64\n",
       "timestamp        int64\n",
       "review          object\n",
       "item            object\n",
       "rating         float64\n",
       "helpfulness    float64\n",
       "gender          object\n",
       "category        object\n",
       "item_id          int64\n",
       "item_price     float64\n",
       "user_city        int64\n",
       "dtype: object"
      ]
     },
     "execution_count": 8,
     "metadata": {},
     "output_type": "execute_result"
    }
   ],
   "source": [
    "df.dtypes"
   ]
  },
  {
   "cell_type": "code",
   "execution_count": 9,
   "id": "ec3f04e9",
   "metadata": {},
   "outputs": [
    {
     "data": {
      "text/plain": [
       "userId         0\n",
       "timestamp      0\n",
       "review         0\n",
       "item           0\n",
       "rating         0\n",
       "helpfulness    0\n",
       "gender         0\n",
       "category       0\n",
       "item_id        0\n",
       "item_price     0\n",
       "user_city      0\n",
       "dtype: int64"
      ]
     },
     "execution_count": 9,
     "metadata": {},
     "output_type": "execute_result"
    }
   ],
   "source": [
    "#This is used to count the number of missing values in each column of a DataFrame 'df' and sort the results in descending order.\n",
    "df.isnull().sum().sort_values(ascending=False)  "
   ]
  },
  {
   "cell_type": "code",
   "execution_count": 10,
   "id": "95e81aef",
   "metadata": {
    "scrolled": true
   },
   "outputs": [
    {
     "data": {
      "text/html": [
       "<div>\n",
       "<style scoped>\n",
       "    .dataframe tbody tr th:only-of-type {\n",
       "        vertical-align: middle;\n",
       "    }\n",
       "\n",
       "    .dataframe tbody tr th {\n",
       "        vertical-align: top;\n",
       "    }\n",
       "\n",
       "    .dataframe thead th {\n",
       "        text-align: right;\n",
       "    }\n",
       "</style>\n",
       "<table border=\"1\" class=\"dataframe\">\n",
       "  <thead>\n",
       "    <tr style=\"text-align: right;\">\n",
       "      <th></th>\n",
       "      <th>review</th>\n",
       "      <th>item</th>\n",
       "      <th>gender</th>\n",
       "      <th>category</th>\n",
       "    </tr>\n",
       "  </thead>\n",
       "  <tbody>\n",
       "    <tr>\n",
       "      <th>0</th>\n",
       "      <td>Not always McCrap</td>\n",
       "      <td>McDonald's</td>\n",
       "      <td>M</td>\n",
       "      <td>Restaurants &amp; Gourmet</td>\n",
       "    </tr>\n",
       "    <tr>\n",
       "      <th>1</th>\n",
       "      <td>I dropped the chalupa even before he told me to</td>\n",
       "      <td>Taco Bell</td>\n",
       "      <td>M</td>\n",
       "      <td>Restaurants &amp; Gourmet</td>\n",
       "    </tr>\n",
       "    <tr>\n",
       "      <th>2</th>\n",
       "      <td>The Wonderful World of Wendy</td>\n",
       "      <td>Wendy's</td>\n",
       "      <td>M</td>\n",
       "      <td>Restaurants &amp; Gourmet</td>\n",
       "    </tr>\n",
       "    <tr>\n",
       "      <th>3</th>\n",
       "      <td>They actually did it</td>\n",
       "      <td>South Park: Bigger, Longer &amp; Uncut</td>\n",
       "      <td>M</td>\n",
       "      <td>Movies</td>\n",
       "    </tr>\n",
       "    <tr>\n",
       "      <th>4</th>\n",
       "      <td>Hey! Gimme some pie!</td>\n",
       "      <td>American Pie</td>\n",
       "      <td>M</td>\n",
       "      <td>Movies</td>\n",
       "    </tr>\n",
       "    <tr>\n",
       "      <th>5</th>\n",
       "      <td>Good for sci-fi</td>\n",
       "      <td>Matrix</td>\n",
       "      <td>M</td>\n",
       "      <td>Movies</td>\n",
       "    </tr>\n",
       "    <tr>\n",
       "      <th>6</th>\n",
       "      <td>Scary? you bet!</td>\n",
       "      <td>Blair Witch Project</td>\n",
       "      <td>M</td>\n",
       "      <td>Movies</td>\n",
       "    </tr>\n",
       "    <tr>\n",
       "      <th>7</th>\n",
       "      <td>Fox - the 4th basic channel</td>\n",
       "      <td>FOX</td>\n",
       "      <td>M</td>\n",
       "      <td>Media</td>\n",
       "    </tr>\n",
       "    <tr>\n",
       "      <th>8</th>\n",
       "      <td>Amen!</td>\n",
       "      <td>Dogma</td>\n",
       "      <td>M</td>\n",
       "      <td>Movies</td>\n",
       "    </tr>\n",
       "    <tr>\n",
       "      <th>9</th>\n",
       "      <td>mama mia!</td>\n",
       "      <td>Olive Garden</td>\n",
       "      <td>M</td>\n",
       "      <td>Restaurants &amp; Gourmet</td>\n",
       "    </tr>\n",
       "  </tbody>\n",
       "</table>\n",
       "</div>"
      ],
      "text/plain": [
       "                                            review  \\\n",
       "0                                Not always McCrap   \n",
       "1  I dropped the chalupa even before he told me to   \n",
       "2                     The Wonderful World of Wendy   \n",
       "3                             They actually did it   \n",
       "4                             Hey! Gimme some pie!   \n",
       "5                                  Good for sci-fi   \n",
       "6                                  Scary? you bet!   \n",
       "7                      Fox - the 4th basic channel   \n",
       "8                                            Amen!   \n",
       "9                                        mama mia!   \n",
       "\n",
       "                                 item gender               category  \n",
       "0                          McDonald's      M  Restaurants & Gourmet  \n",
       "1                           Taco Bell      M  Restaurants & Gourmet  \n",
       "2                             Wendy's      M  Restaurants & Gourmet  \n",
       "3  South Park: Bigger, Longer & Uncut      M                 Movies  \n",
       "4                        American Pie      M                 Movies  \n",
       "5                              Matrix      M                 Movies  \n",
       "6                 Blair Witch Project      M                 Movies  \n",
       "7                                 FOX      M                  Media  \n",
       "8                               Dogma      M                 Movies  \n",
       "9                        Olive Garden      M  Restaurants & Gourmet  "
      ]
     },
     "execution_count": 10,
     "metadata": {},
     "output_type": "execute_result"
    }
   ],
   "source": [
    "# This selects all columns in the DataFrame 'df' that are not of numeric dtype\n",
    "df_cate = df.select_dtypes(exclude = [np.number])\n",
    "df_cate.head(10)"
   ]
  },
  {
   "cell_type": "code",
   "execution_count": 11,
   "id": "dd8e2fa3",
   "metadata": {
    "scrolled": false
   },
   "outputs": [
    {
     "data": {
      "text/html": [
       "<div>\n",
       "<style scoped>\n",
       "    .dataframe tbody tr th:only-of-type {\n",
       "        vertical-align: middle;\n",
       "    }\n",
       "\n",
       "    .dataframe tbody tr th {\n",
       "        vertical-align: top;\n",
       "    }\n",
       "\n",
       "    .dataframe thead th {\n",
       "        text-align: right;\n",
       "    }\n",
       "</style>\n",
       "<table border=\"1\" class=\"dataframe\">\n",
       "  <thead>\n",
       "    <tr style=\"text-align: right;\">\n",
       "      <th></th>\n",
       "      <th>userId</th>\n",
       "      <th>timestamp</th>\n",
       "      <th>rating</th>\n",
       "      <th>helpfulness</th>\n",
       "      <th>item_id</th>\n",
       "      <th>item_price</th>\n",
       "      <th>user_city</th>\n",
       "    </tr>\n",
       "  </thead>\n",
       "  <tbody>\n",
       "    <tr>\n",
       "      <th>0</th>\n",
       "      <td>4081</td>\n",
       "      <td>71900</td>\n",
       "      <td>4.000000</td>\n",
       "      <td>3.000000</td>\n",
       "      <td>41</td>\n",
       "      <td>30.740000</td>\n",
       "      <td>4</td>\n",
       "    </tr>\n",
       "    <tr>\n",
       "      <th>1</th>\n",
       "      <td>4081</td>\n",
       "      <td>72000</td>\n",
       "      <td>1.000000</td>\n",
       "      <td>4.000000</td>\n",
       "      <td>74</td>\n",
       "      <td>108.300000</td>\n",
       "      <td>4</td>\n",
       "    </tr>\n",
       "    <tr>\n",
       "      <th>2</th>\n",
       "      <td>4081</td>\n",
       "      <td>72000</td>\n",
       "      <td>5.000000</td>\n",
       "      <td>4.000000</td>\n",
       "      <td>84</td>\n",
       "      <td>69.000000</td>\n",
       "      <td>4</td>\n",
       "    </tr>\n",
       "    <tr>\n",
       "      <th>3</th>\n",
       "      <td>4081</td>\n",
       "      <td>100399</td>\n",
       "      <td>5.000000</td>\n",
       "      <td>3.000000</td>\n",
       "      <td>68</td>\n",
       "      <td>143.110000</td>\n",
       "      <td>4</td>\n",
       "    </tr>\n",
       "    <tr>\n",
       "      <th>4</th>\n",
       "      <td>4081</td>\n",
       "      <td>100399</td>\n",
       "      <td>3.000000</td>\n",
       "      <td>3.000000</td>\n",
       "      <td>6</td>\n",
       "      <td>117.890000</td>\n",
       "      <td>4</td>\n",
       "    </tr>\n",
       "    <tr>\n",
       "      <th>5</th>\n",
       "      <td>4081</td>\n",
       "      <td>100399</td>\n",
       "      <td>3.000000</td>\n",
       "      <td>3.000000</td>\n",
       "      <td>40</td>\n",
       "      <td>24.510000</td>\n",
       "      <td>4</td>\n",
       "    </tr>\n",
       "    <tr>\n",
       "      <th>6</th>\n",
       "      <td>4081</td>\n",
       "      <td>100399</td>\n",
       "      <td>4.000000</td>\n",
       "      <td>3.000000</td>\n",
       "      <td>12</td>\n",
       "      <td>44.000000</td>\n",
       "      <td>4</td>\n",
       "    </tr>\n",
       "    <tr>\n",
       "      <th>7</th>\n",
       "      <td>4081</td>\n",
       "      <td>101899</td>\n",
       "      <td>4.000000</td>\n",
       "      <td>4.000000</td>\n",
       "      <td>25</td>\n",
       "      <td>80.000000</td>\n",
       "      <td>4</td>\n",
       "    </tr>\n",
       "    <tr>\n",
       "      <th>8</th>\n",
       "      <td>4081</td>\n",
       "      <td>112099</td>\n",
       "      <td>4.000000</td>\n",
       "      <td>3.000000</td>\n",
       "      <td>22</td>\n",
       "      <td>87.590000</td>\n",
       "      <td>4</td>\n",
       "    </tr>\n",
       "    <tr>\n",
       "      <th>9</th>\n",
       "      <td>4081</td>\n",
       "      <td>122899</td>\n",
       "      <td>4.000000</td>\n",
       "      <td>3.000000</td>\n",
       "      <td>49</td>\n",
       "      <td>32.000000</td>\n",
       "      <td>4</td>\n",
       "    </tr>\n",
       "  </tbody>\n",
       "</table>\n",
       "</div>"
      ],
      "text/plain": [
       "   userId  timestamp   rating  helpfulness  item_id  item_price  user_city\n",
       "0    4081      71900 4.000000     3.000000       41   30.740000          4\n",
       "1    4081      72000 1.000000     4.000000       74  108.300000          4\n",
       "2    4081      72000 5.000000     4.000000       84   69.000000          4\n",
       "3    4081     100399 5.000000     3.000000       68  143.110000          4\n",
       "4    4081     100399 3.000000     3.000000        6  117.890000          4\n",
       "5    4081     100399 3.000000     3.000000       40   24.510000          4\n",
       "6    4081     100399 4.000000     3.000000       12   44.000000          4\n",
       "7    4081     101899 4.000000     4.000000       25   80.000000          4\n",
       "8    4081     112099 4.000000     3.000000       22   87.590000          4\n",
       "9    4081     122899 4.000000     3.000000       49   32.000000          4"
      ]
     },
     "execution_count": 11,
     "metadata": {},
     "output_type": "execute_result"
    }
   ],
   "source": [
    "#This selects all columns in the DataFrame 'df' which contains numeric dtype.\n",
    "df_num = df.select_dtypes(include = [np.number])\n",
    "df_num.head(10)"
   ]
  },
  {
   "cell_type": "code",
   "execution_count": 12,
   "id": "6a342912",
   "metadata": {},
   "outputs": [],
   "source": [
    "from sklearn.preprocessing import OrdinalEncoder # This class can be used to encode categorical data into ordinal integers.\n",
    "encoder = OrdinalEncoder() # This creates an instance of the OrdinalEncoder class.\n",
    "df_cate_encoder = encoder.fit_transform(df_cate) #This is used to transform the categorical datas 'df_cate' into numerical values. "
   ]
  },
  {
   "cell_type": "code",
   "execution_count": 13,
   "id": "136e7fd1",
   "metadata": {},
   "outputs": [],
   "source": [
    "df_c= pd.DataFrame(df_cate_encoder, columns = df_cate.columns)"
   ]
  },
  {
   "cell_type": "code",
   "execution_count": 14,
   "id": "d4cd2783",
   "metadata": {},
   "outputs": [
    {
     "data": {
      "text/html": [
       "<div>\n",
       "<style scoped>\n",
       "    .dataframe tbody tr th:only-of-type {\n",
       "        vertical-align: middle;\n",
       "    }\n",
       "\n",
       "    .dataframe tbody tr th {\n",
       "        vertical-align: top;\n",
       "    }\n",
       "\n",
       "    .dataframe thead th {\n",
       "        text-align: right;\n",
       "    }\n",
       "</style>\n",
       "<table border=\"1\" class=\"dataframe\">\n",
       "  <thead>\n",
       "    <tr style=\"text-align: right;\">\n",
       "      <th></th>\n",
       "      <th>review</th>\n",
       "      <th>item</th>\n",
       "      <th>gender</th>\n",
       "      <th>category</th>\n",
       "    </tr>\n",
       "  </thead>\n",
       "  <tbody>\n",
       "    <tr>\n",
       "      <th>0</th>\n",
       "      <td>1618.000000</td>\n",
       "      <td>37.000000</td>\n",
       "      <td>1.000000</td>\n",
       "      <td>8.000000</td>\n",
       "    </tr>\n",
       "    <tr>\n",
       "      <th>1</th>\n",
       "      <td>1125.000000</td>\n",
       "      <td>67.000000</td>\n",
       "      <td>1.000000</td>\n",
       "      <td>8.000000</td>\n",
       "    </tr>\n",
       "    <tr>\n",
       "      <th>2</th>\n",
       "      <td>2185.000000</td>\n",
       "      <td>77.000000</td>\n",
       "      <td>1.000000</td>\n",
       "      <td>8.000000</td>\n",
       "    </tr>\n",
       "    <tr>\n",
       "      <th>3</th>\n",
       "      <td>2243.000000</td>\n",
       "      <td>61.000000</td>\n",
       "      <td>1.000000</td>\n",
       "      <td>5.000000</td>\n",
       "    </tr>\n",
       "    <tr>\n",
       "      <th>4</th>\n",
       "      <td>1033.000000</td>\n",
       "      <td>5.000000</td>\n",
       "      <td>1.000000</td>\n",
       "      <td>5.000000</td>\n",
       "    </tr>\n",
       "    <tr>\n",
       "      <th>5</th>\n",
       "      <td>925.000000</td>\n",
       "      <td>36.000000</td>\n",
       "      <td>1.000000</td>\n",
       "      <td>5.000000</td>\n",
       "    </tr>\n",
       "    <tr>\n",
       "      <th>6</th>\n",
       "      <td>1854.000000</td>\n",
       "      <td>11.000000</td>\n",
       "      <td>1.000000</td>\n",
       "      <td>5.000000</td>\n",
       "    </tr>\n",
       "    <tr>\n",
       "      <th>7</th>\n",
       "      <td>795.000000</td>\n",
       "      <td>23.000000</td>\n",
       "      <td>1.000000</td>\n",
       "      <td>4.000000</td>\n",
       "    </tr>\n",
       "    <tr>\n",
       "      <th>8</th>\n",
       "      <td>262.000000</td>\n",
       "      <td>21.000000</td>\n",
       "      <td>1.000000</td>\n",
       "      <td>5.000000</td>\n",
       "    </tr>\n",
       "    <tr>\n",
       "      <th>9</th>\n",
       "      <td>2643.000000</td>\n",
       "      <td>44.000000</td>\n",
       "      <td>1.000000</td>\n",
       "      <td>8.000000</td>\n",
       "    </tr>\n",
       "    <tr>\n",
       "      <th>10</th>\n",
       "      <td>1342.000000</td>\n",
       "      <td>71.000000</td>\n",
       "      <td>1.000000</td>\n",
       "      <td>3.000000</td>\n",
       "    </tr>\n",
       "    <tr>\n",
       "      <th>11</th>\n",
       "      <td>913.000000</td>\n",
       "      <td>45.000000</td>\n",
       "      <td>1.000000</td>\n",
       "      <td>8.000000</td>\n",
       "    </tr>\n",
       "    <tr>\n",
       "      <th>12</th>\n",
       "      <td>250.000000</td>\n",
       "      <td>29.000000</td>\n",
       "      <td>1.000000</td>\n",
       "      <td>6.000000</td>\n",
       "    </tr>\n",
       "    <tr>\n",
       "      <th>13</th>\n",
       "      <td>929.000000</td>\n",
       "      <td>42.000000</td>\n",
       "      <td>1.000000</td>\n",
       "      <td>6.000000</td>\n",
       "    </tr>\n",
       "    <tr>\n",
       "      <th>14</th>\n",
       "      <td>2621.000000</td>\n",
       "      <td>67.000000</td>\n",
       "      <td>1.000000</td>\n",
       "      <td>8.000000</td>\n",
       "    </tr>\n",
       "    <tr>\n",
       "      <th>15</th>\n",
       "      <td>2636.000000</td>\n",
       "      <td>15.000000</td>\n",
       "      <td>1.000000</td>\n",
       "      <td>8.000000</td>\n",
       "    </tr>\n",
       "    <tr>\n",
       "      <th>16</th>\n",
       "      <td>2635.000000</td>\n",
       "      <td>77.000000</td>\n",
       "      <td>1.000000</td>\n",
       "      <td>8.000000</td>\n",
       "    </tr>\n",
       "    <tr>\n",
       "      <th>17</th>\n",
       "      <td>2631.000000</td>\n",
       "      <td>37.000000</td>\n",
       "      <td>1.000000</td>\n",
       "      <td>8.000000</td>\n",
       "    </tr>\n",
       "    <tr>\n",
       "      <th>18</th>\n",
       "      <td>963.000000</td>\n",
       "      <td>41.000000</td>\n",
       "      <td>1.000000</td>\n",
       "      <td>6.000000</td>\n",
       "    </tr>\n",
       "    <tr>\n",
       "      <th>19</th>\n",
       "      <td>1382.000000</td>\n",
       "      <td>35.000000</td>\n",
       "      <td>0.000000</td>\n",
       "      <td>4.000000</td>\n",
       "    </tr>\n",
       "  </tbody>\n",
       "</table>\n",
       "</div>"
      ],
      "text/plain": [
       "        review      item   gender  category\n",
       "0  1618.000000 37.000000 1.000000  8.000000\n",
       "1  1125.000000 67.000000 1.000000  8.000000\n",
       "2  2185.000000 77.000000 1.000000  8.000000\n",
       "3  2243.000000 61.000000 1.000000  5.000000\n",
       "4  1033.000000  5.000000 1.000000  5.000000\n",
       "5   925.000000 36.000000 1.000000  5.000000\n",
       "6  1854.000000 11.000000 1.000000  5.000000\n",
       "7   795.000000 23.000000 1.000000  4.000000\n",
       "8   262.000000 21.000000 1.000000  5.000000\n",
       "9  2643.000000 44.000000 1.000000  8.000000\n",
       "10 1342.000000 71.000000 1.000000  3.000000\n",
       "11  913.000000 45.000000 1.000000  8.000000\n",
       "12  250.000000 29.000000 1.000000  6.000000\n",
       "13  929.000000 42.000000 1.000000  6.000000\n",
       "14 2621.000000 67.000000 1.000000  8.000000\n",
       "15 2636.000000 15.000000 1.000000  8.000000\n",
       "16 2635.000000 77.000000 1.000000  8.000000\n",
       "17 2631.000000 37.000000 1.000000  8.000000\n",
       "18  963.000000 41.000000 1.000000  6.000000\n",
       "19 1382.000000 35.000000 0.000000  4.000000"
      ]
     },
     "execution_count": 14,
     "metadata": {},
     "output_type": "execute_result"
    }
   ],
   "source": [
    "df_c.head(20)"
   ]
  },
  {
   "cell_type": "code",
   "execution_count": 15,
   "id": "f606d380",
   "metadata": {},
   "outputs": [],
   "source": [
    "df_new= pd.concat([df_num, df_c], axis = 1)  \n",
    "#This line concatenates two DataFrames, 'df_num' and 'df_c', along axis=1. \n",
    "#the columns of 'df_num' will be appended to the columns of 'df_c'."
   ]
  },
  {
   "cell_type": "code",
   "execution_count": 16,
   "id": "bcca8812",
   "metadata": {},
   "outputs": [
    {
     "data": {
      "text/html": [
       "<div>\n",
       "<style scoped>\n",
       "    .dataframe tbody tr th:only-of-type {\n",
       "        vertical-align: middle;\n",
       "    }\n",
       "\n",
       "    .dataframe tbody tr th {\n",
       "        vertical-align: top;\n",
       "    }\n",
       "\n",
       "    .dataframe thead th {\n",
       "        text-align: right;\n",
       "    }\n",
       "</style>\n",
       "<table border=\"1\" class=\"dataframe\">\n",
       "  <thead>\n",
       "    <tr style=\"text-align: right;\">\n",
       "      <th></th>\n",
       "      <th>userId</th>\n",
       "      <th>timestamp</th>\n",
       "      <th>rating</th>\n",
       "      <th>helpfulness</th>\n",
       "      <th>item_id</th>\n",
       "      <th>item_price</th>\n",
       "      <th>user_city</th>\n",
       "      <th>review</th>\n",
       "      <th>item</th>\n",
       "      <th>gender</th>\n",
       "      <th>category</th>\n",
       "    </tr>\n",
       "  </thead>\n",
       "  <tbody>\n",
       "    <tr>\n",
       "      <th>0</th>\n",
       "      <td>4081</td>\n",
       "      <td>71900</td>\n",
       "      <td>4.000000</td>\n",
       "      <td>3.000000</td>\n",
       "      <td>41</td>\n",
       "      <td>30.740000</td>\n",
       "      <td>4</td>\n",
       "      <td>1618.000000</td>\n",
       "      <td>37.000000</td>\n",
       "      <td>1.000000</td>\n",
       "      <td>8.000000</td>\n",
       "    </tr>\n",
       "    <tr>\n",
       "      <th>1</th>\n",
       "      <td>4081</td>\n",
       "      <td>72000</td>\n",
       "      <td>1.000000</td>\n",
       "      <td>4.000000</td>\n",
       "      <td>74</td>\n",
       "      <td>108.300000</td>\n",
       "      <td>4</td>\n",
       "      <td>1125.000000</td>\n",
       "      <td>67.000000</td>\n",
       "      <td>1.000000</td>\n",
       "      <td>8.000000</td>\n",
       "    </tr>\n",
       "    <tr>\n",
       "      <th>2</th>\n",
       "      <td>4081</td>\n",
       "      <td>72000</td>\n",
       "      <td>5.000000</td>\n",
       "      <td>4.000000</td>\n",
       "      <td>84</td>\n",
       "      <td>69.000000</td>\n",
       "      <td>4</td>\n",
       "      <td>2185.000000</td>\n",
       "      <td>77.000000</td>\n",
       "      <td>1.000000</td>\n",
       "      <td>8.000000</td>\n",
       "    </tr>\n",
       "    <tr>\n",
       "      <th>3</th>\n",
       "      <td>4081</td>\n",
       "      <td>100399</td>\n",
       "      <td>5.000000</td>\n",
       "      <td>3.000000</td>\n",
       "      <td>68</td>\n",
       "      <td>143.110000</td>\n",
       "      <td>4</td>\n",
       "      <td>2243.000000</td>\n",
       "      <td>61.000000</td>\n",
       "      <td>1.000000</td>\n",
       "      <td>5.000000</td>\n",
       "    </tr>\n",
       "    <tr>\n",
       "      <th>4</th>\n",
       "      <td>4081</td>\n",
       "      <td>100399</td>\n",
       "      <td>3.000000</td>\n",
       "      <td>3.000000</td>\n",
       "      <td>6</td>\n",
       "      <td>117.890000</td>\n",
       "      <td>4</td>\n",
       "      <td>1033.000000</td>\n",
       "      <td>5.000000</td>\n",
       "      <td>1.000000</td>\n",
       "      <td>5.000000</td>\n",
       "    </tr>\n",
       "    <tr>\n",
       "      <th>5</th>\n",
       "      <td>4081</td>\n",
       "      <td>100399</td>\n",
       "      <td>3.000000</td>\n",
       "      <td>3.000000</td>\n",
       "      <td>40</td>\n",
       "      <td>24.510000</td>\n",
       "      <td>4</td>\n",
       "      <td>925.000000</td>\n",
       "      <td>36.000000</td>\n",
       "      <td>1.000000</td>\n",
       "      <td>5.000000</td>\n",
       "    </tr>\n",
       "    <tr>\n",
       "      <th>6</th>\n",
       "      <td>4081</td>\n",
       "      <td>100399</td>\n",
       "      <td>4.000000</td>\n",
       "      <td>3.000000</td>\n",
       "      <td>12</td>\n",
       "      <td>44.000000</td>\n",
       "      <td>4</td>\n",
       "      <td>1854.000000</td>\n",
       "      <td>11.000000</td>\n",
       "      <td>1.000000</td>\n",
       "      <td>5.000000</td>\n",
       "    </tr>\n",
       "    <tr>\n",
       "      <th>7</th>\n",
       "      <td>4081</td>\n",
       "      <td>101899</td>\n",
       "      <td>4.000000</td>\n",
       "      <td>4.000000</td>\n",
       "      <td>25</td>\n",
       "      <td>80.000000</td>\n",
       "      <td>4</td>\n",
       "      <td>795.000000</td>\n",
       "      <td>23.000000</td>\n",
       "      <td>1.000000</td>\n",
       "      <td>4.000000</td>\n",
       "    </tr>\n",
       "    <tr>\n",
       "      <th>8</th>\n",
       "      <td>4081</td>\n",
       "      <td>112099</td>\n",
       "      <td>4.000000</td>\n",
       "      <td>3.000000</td>\n",
       "      <td>22</td>\n",
       "      <td>87.590000</td>\n",
       "      <td>4</td>\n",
       "      <td>262.000000</td>\n",
       "      <td>21.000000</td>\n",
       "      <td>1.000000</td>\n",
       "      <td>5.000000</td>\n",
       "    </tr>\n",
       "    <tr>\n",
       "      <th>9</th>\n",
       "      <td>4081</td>\n",
       "      <td>122899</td>\n",
       "      <td>4.000000</td>\n",
       "      <td>3.000000</td>\n",
       "      <td>49</td>\n",
       "      <td>32.000000</td>\n",
       "      <td>4</td>\n",
       "      <td>2643.000000</td>\n",
       "      <td>44.000000</td>\n",
       "      <td>1.000000</td>\n",
       "      <td>8.000000</td>\n",
       "    </tr>\n",
       "  </tbody>\n",
       "</table>\n",
       "</div>"
      ],
      "text/plain": [
       "   userId  timestamp   rating  helpfulness  item_id  item_price  user_city  \\\n",
       "0    4081      71900 4.000000     3.000000       41   30.740000          4   \n",
       "1    4081      72000 1.000000     4.000000       74  108.300000          4   \n",
       "2    4081      72000 5.000000     4.000000       84   69.000000          4   \n",
       "3    4081     100399 5.000000     3.000000       68  143.110000          4   \n",
       "4    4081     100399 3.000000     3.000000        6  117.890000          4   \n",
       "5    4081     100399 3.000000     3.000000       40   24.510000          4   \n",
       "6    4081     100399 4.000000     3.000000       12   44.000000          4   \n",
       "7    4081     101899 4.000000     4.000000       25   80.000000          4   \n",
       "8    4081     112099 4.000000     3.000000       22   87.590000          4   \n",
       "9    4081     122899 4.000000     3.000000       49   32.000000          4   \n",
       "\n",
       "       review      item   gender  category  \n",
       "0 1618.000000 37.000000 1.000000  8.000000  \n",
       "1 1125.000000 67.000000 1.000000  8.000000  \n",
       "2 2185.000000 77.000000 1.000000  8.000000  \n",
       "3 2243.000000 61.000000 1.000000  5.000000  \n",
       "4 1033.000000  5.000000 1.000000  5.000000  \n",
       "5  925.000000 36.000000 1.000000  5.000000  \n",
       "6 1854.000000 11.000000 1.000000  5.000000  \n",
       "7  795.000000 23.000000 1.000000  4.000000  \n",
       "8  262.000000 21.000000 1.000000  5.000000  \n",
       "9 2643.000000 44.000000 1.000000  8.000000  "
      ]
     },
     "execution_count": 16,
     "metadata": {},
     "output_type": "execute_result"
    }
   ],
   "source": [
    "df_new.head(10)"
   ]
  },
  {
   "cell_type": "code",
   "execution_count": 17,
   "id": "0807c875",
   "metadata": {
    "scrolled": true
   },
   "outputs": [
    {
     "data": {
      "text/html": [
       "<div>\n",
       "<style scoped>\n",
       "    .dataframe tbody tr th:only-of-type {\n",
       "        vertical-align: middle;\n",
       "    }\n",
       "\n",
       "    .dataframe tbody tr th {\n",
       "        vertical-align: top;\n",
       "    }\n",
       "\n",
       "    .dataframe thead th {\n",
       "        text-align: right;\n",
       "    }\n",
       "</style>\n",
       "<table border=\"1\" class=\"dataframe\">\n",
       "  <thead>\n",
       "    <tr style=\"text-align: right;\">\n",
       "      <th></th>\n",
       "      <th>helpfulness</th>\n",
       "      <th>gender</th>\n",
       "      <th>category</th>\n",
       "      <th>review</th>\n",
       "      <th>rating</th>\n",
       "    </tr>\n",
       "  </thead>\n",
       "  <tbody>\n",
       "    <tr>\n",
       "      <th>helpfulness</th>\n",
       "      <td>1.000000</td>\n",
       "      <td>0.075947</td>\n",
       "      <td>-0.013408</td>\n",
       "      <td>-0.028259</td>\n",
       "      <td>-0.007523</td>\n",
       "    </tr>\n",
       "    <tr>\n",
       "      <th>gender</th>\n",
       "      <td>0.075947</td>\n",
       "      <td>1.000000</td>\n",
       "      <td>0.022549</td>\n",
       "      <td>-0.037884</td>\n",
       "      <td>-0.034337</td>\n",
       "    </tr>\n",
       "    <tr>\n",
       "      <th>category</th>\n",
       "      <td>-0.013408</td>\n",
       "      <td>0.022549</td>\n",
       "      <td>1.000000</td>\n",
       "      <td>0.001970</td>\n",
       "      <td>-0.163158</td>\n",
       "    </tr>\n",
       "    <tr>\n",
       "      <th>review</th>\n",
       "      <td>-0.028259</td>\n",
       "      <td>-0.037884</td>\n",
       "      <td>0.001970</td>\n",
       "      <td>1.000000</td>\n",
       "      <td>-0.036118</td>\n",
       "    </tr>\n",
       "    <tr>\n",
       "      <th>rating</th>\n",
       "      <td>-0.007523</td>\n",
       "      <td>-0.034337</td>\n",
       "      <td>-0.163158</td>\n",
       "      <td>-0.036118</td>\n",
       "      <td>1.000000</td>\n",
       "    </tr>\n",
       "  </tbody>\n",
       "</table>\n",
       "</div>"
      ],
      "text/plain": [
       "             helpfulness    gender  category    review    rating\n",
       "helpfulness     1.000000  0.075947 -0.013408 -0.028259 -0.007523\n",
       "gender          0.075947  1.000000  0.022549 -0.037884 -0.034337\n",
       "category       -0.013408  0.022549  1.000000  0.001970 -0.163158\n",
       "review         -0.028259 -0.037884  0.001970  1.000000 -0.036118\n",
       "rating         -0.007523 -0.034337 -0.163158 -0.036118  1.000000"
      ]
     },
     "execution_count": 17,
     "metadata": {},
     "output_type": "execute_result"
    }
   ],
   "source": [
    "#The 'corr()' function in Seaborn is used to calculate the correlation matrix of a dataset. \n",
    "df_new[[\"helpfulness\",\"gender\",\"category\",\"review\",\"rating\"]].corr()\n"
   ]
  },
  {
   "cell_type": "code",
   "execution_count": 18,
   "id": "00c9b9bb",
   "metadata": {},
   "outputs": [
    {
     "data": {
      "image/png": "[encoded data removed]",
      "text/plain": [
       "<Figure size 1000x1000 with 2 Axes>"
      ]
     },
     "metadata": {},
     "output_type": "display_data"
    }
   ],
   "source": [
    "plt.figure(figsize = (10,10))\n",
    "sns.heatmap(df_new[[\"helpfulness\",\"gender\",\"category\",\"review\",\"rating\"]].corr(), annot = True, annot_kws = {\"size\": 11})\n",
    "plt.yticks(rotation = 'horizontal', fontsize = 10)\n",
    "plt.xticks(fontsize = 10)\n",
    "plt.show()"
   ]
  },
  {
   "cell_type": "markdown",
   "id": "8081d71d",
   "metadata": {},
   "source": [
    "The heatmap shows that the features **'helpfulness'** and **'gender'** are the most correlated with the rating, with a correlation coefficient of -0.007523337726844578 and -0.03433661424208267. This means that these two features are the most likely to affect the rating of the e-commerce dataset. The features **'category'** and **'review'** are also correlated with the rating, but to a lesser extent."
   ]
  },
  {
   "cell_type": "code",
   "execution_count": 19,
   "id": "4951f025",
   "metadata": {},
   "outputs": [
    {
     "data": {
      "image/png": "[encoded data removed]",
      "text/plain": [
       "<Figure size 1000x1000 with 2 Axes>"
      ]
     },
     "metadata": {},
     "output_type": "display_data"
    }
   ],
   "source": [
    "plt.figure(figsize = (10,10))\n",
    "sns.heatmap(df_new[[\"helpfulness\",\"gender\",\"category\",\"review\",\"rating\"]].corr()[np.abs(df_new[[\"helpfulness\",\"gender\",\"category\",\"review\"]].corr()) > 0.6], annot = True, annot_kws = {\"size\": 13}, cmap = 'Purples')\n",
    "#The 'annot' keyword is used to add the correlation coefficients to the heatmap, and the annot_kws keyword is used to customize the size of the annotations.\n",
    "plt.yticks(rotation = 'horizontal', fontsize = 10)\n",
    "plt.xticks(fontsize = 10)\n",
    "plt.show()"
   ]
  },
  {
   "cell_type": "markdown",
   "id": "146a71ec",
   "metadata": {},
   "source": [
    "The above heatmap provides correlation between the columns 'helpfulness', 'gender', 'category', 'review', and 'rating' in the DataFrame 'df_new'. The heatmap is colored such that **darker colors** indicates **stronger correlations**."
   ]
  },
  {
   "cell_type": "code",
   "execution_count": 20,
   "id": "b92fe5ac",
   "metadata": {},
   "outputs": [
    {
     "name": "stdout",
     "output_type": "stream",
     "text": [
      "-0.007523337726844578\n"
     ]
    }
   ],
   "source": [
    "#To check correlation between 'ratings' and 'helpfulness'\n",
    "df_new['rating'].corr(df_new['helpfulness'])\n",
    "print(df_new['rating'].corr(df_new['helpfulness']))"
   ]
  },
  {
   "cell_type": "markdown",
   "id": "e70e26a6",
   "metadata": {},
   "source": [
    "This means that there is a **weak negative correlation**  between the rating and helpfulness.\n",
    "In other words, as the rating decreases, the helpfulness tends to increase.\n",
    "If the correlation is weak,it is **not a strong relationship**."
   ]
  },
  {
   "cell_type": "code",
   "execution_count": 21,
   "id": "b4df0e8e",
   "metadata": {
    "scrolled": true
   },
   "outputs": [
    {
     "name": "stdout",
     "output_type": "stream",
     "text": [
      "-0.03433661424208267\n"
     ]
    }
   ],
   "source": [
    "#To check correlation between 'ratings' and 'gender'\n",
    "df_new['rating'].corr(df_new['gender'])\n",
    "print(df_new['rating'].corr(df_new['gender'])) "
   ]
  },
  {
   "cell_type": "markdown",
   "id": "ab236a6d",
   "metadata": {},
   "source": [
    "The correlation between the **rating** and **gender** columns in the 'df_new' is -0.034. This means it also has **weak negative correlation**. \n",
    "In other words,the correlation is comparatively better than 'ratings' and 'helpfulness'\n",
    "However, the correlation is weak, so it is not a reliable predictor of ratings of the E-commerce dataset."
   ]
  },
  {
   "cell_type": "code",
   "execution_count": 22,
   "id": "d56aec19",
   "metadata": {},
   "outputs": [
    {
     "name": "stdout",
     "output_type": "stream",
     "text": [
      "-0.16315765340915678\n"
     ]
    }
   ],
   "source": [
    "#To check correlation between 'ratings' and 'category'\n",
    "df_new['rating'].corr(df_new['category'])\n",
    "print(df_new['rating'].corr(df_new['category'])) "
   ]
  },
  {
   "cell_type": "markdown",
   "id": "19bc5ed2",
   "metadata": {},
   "source": [
    "In this case, the correlation coefficient is -0.1631, which indicates a **positive correlation** between the **'rating'** and **'category'** columns. This means this is the most positive linear relationship in our dataset. "
   ]
  },
  {
   "cell_type": "code",
   "execution_count": 23,
   "id": "b95ca4c1",
   "metadata": {
    "scrolled": true
   },
   "outputs": [
    {
     "name": "stdout",
     "output_type": "stream",
     "text": [
      "-0.03611838655212239\n"
     ]
    }
   ],
   "source": [
    "#To check correlation between 'ratings' and 'review'\n",
    "df_new['rating'].corr(df_new['review'])\n",
    "print(df_new['rating'].corr(df_new['review'])) #This is second most co-related corelation"
   ]
  },
  {
   "cell_type": "markdown",
   "id": "691831b9",
   "metadata": {},
   "source": [
    "The correlation between the **rating** and **review** columns in the 'df_new' is -0.036. This means it also has **negative correlation**.\n",
    "In other words,the correlation is second highest among the other three relations.\n",
    "However, the correlation is weak, so it is not a most reliable predictor of ratings of the E-commerce dataset."
   ]
  },
  {
   "cell_type": "markdown",
   "id": "0aa5ff2c",
   "metadata": {},
   "source": [
    "**My Analysis**"
   ]
  },
  {
   "cell_type": "markdown",
   "id": "58d0a989",
   "metadata": {},
   "source": [
    "The correlation coefficients between the rating and helpfulness, gender, category, and review columns are -0.0075, -0.0343, -0.1632, and -0.0361, respectively. A correlation coefficient of **0** indicates **no correlation**, a **positive correlation** coefficient indicates a positive relationship between the two variables that is **1**, and a **negative correlation** coefficient indicates a negative relationship between the two variables that is **-1**.\n",
    "\n",
    "In this case, all of the correlation coefficients are  **weak**, indicating that there is no strong relationship between the rating and any of the other variables. The only exception is the correlation between the rating and the helpfulness column, which is slightly negative. This suggests that there is a slight inverse relationship between the two variables, meaning that reviews that are rated higher are also less likely to be helpful.\n"
   ]
  },
  {
   "cell_type": "markdown",
   "id": "4myP5igslA_Y",
   "metadata": {
    "id": "4myP5igslA_Y"
   },
   "source": [
    "### Split Training and Testing Data\n",
    "* Machine learning models are trained to help make predictions for the future. Normally, we need to randomly split the dataset into training and testing sets, where we use the training set to train the model, and then leverage the well-trained model to make predictions on the testing set.\n",
    "* To further investigate whether the size of the training/testing data affects the model performance, please random split the data into training and testing sets with different sizes:\n",
    "    * Case 1: training data containing 10% of the entire data;\n",
    "    * Case 2: training data containing 90% of the entire data.\n",
    "* Print the shape of training and testing sets in the two cases."
   ]
  },
  {
   "cell_type": "code",
   "execution_count": 51,
   "id": "0c3c2dbd",
   "metadata": {},
   "outputs": [],
   "source": [
    "X_Axis=df_new.drop('rating', axis = 1)\n",
    "Y_Axis=df_new[\"rating\"]\n"
   ]
  },
  {
   "cell_type": "code",
   "execution_count": 52,
   "id": "468ef1b1",
   "metadata": {},
   "outputs": [
    {
     "data": {
      "text/html": [
       "<div>\n",
       "<style scoped>\n",
       "    .dataframe tbody tr th:only-of-type {\n",
       "        vertical-align: middle;\n",
       "    }\n",
       "\n",
       "    .dataframe tbody tr th {\n",
       "        vertical-align: top;\n",
       "    }\n",
       "\n",
       "    .dataframe thead th {\n",
       "        text-align: right;\n",
       "    }\n",
       "</style>\n",
       "<table border=\"1\" class=\"dataframe\">\n",
       "  <thead>\n",
       "    <tr style=\"text-align: right;\">\n",
       "      <th></th>\n",
       "      <th>userId</th>\n",
       "      <th>timestamp</th>\n",
       "      <th>helpfulness</th>\n",
       "      <th>item_id</th>\n",
       "      <th>item_price</th>\n",
       "      <th>user_city</th>\n",
       "      <th>review</th>\n",
       "      <th>item</th>\n",
       "      <th>gender</th>\n",
       "      <th>category</th>\n",
       "    </tr>\n",
       "  </thead>\n",
       "  <tbody>\n",
       "    <tr>\n",
       "      <th>0</th>\n",
       "      <td>4081</td>\n",
       "      <td>71900</td>\n",
       "      <td>3.000000</td>\n",
       "      <td>41</td>\n",
       "      <td>30.740000</td>\n",
       "      <td>4</td>\n",
       "      <td>1618.000000</td>\n",
       "      <td>37.000000</td>\n",
       "      <td>1.000000</td>\n",
       "      <td>8.000000</td>\n",
       "    </tr>\n",
       "    <tr>\n",
       "      <th>1</th>\n",
       "      <td>4081</td>\n",
       "      <td>72000</td>\n",
       "      <td>4.000000</td>\n",
       "      <td>74</td>\n",
       "      <td>108.300000</td>\n",
       "      <td>4</td>\n",
       "      <td>1125.000000</td>\n",
       "      <td>67.000000</td>\n",
       "      <td>1.000000</td>\n",
       "      <td>8.000000</td>\n",
       "    </tr>\n",
       "    <tr>\n",
       "      <th>2</th>\n",
       "      <td>4081</td>\n",
       "      <td>72000</td>\n",
       "      <td>4.000000</td>\n",
       "      <td>84</td>\n",
       "      <td>69.000000</td>\n",
       "      <td>4</td>\n",
       "      <td>2185.000000</td>\n",
       "      <td>77.000000</td>\n",
       "      <td>1.000000</td>\n",
       "      <td>8.000000</td>\n",
       "    </tr>\n",
       "    <tr>\n",
       "      <th>3</th>\n",
       "      <td>4081</td>\n",
       "      <td>100399</td>\n",
       "      <td>3.000000</td>\n",
       "      <td>68</td>\n",
       "      <td>143.110000</td>\n",
       "      <td>4</td>\n",
       "      <td>2243.000000</td>\n",
       "      <td>61.000000</td>\n",
       "      <td>1.000000</td>\n",
       "      <td>5.000000</td>\n",
       "    </tr>\n",
       "    <tr>\n",
       "      <th>4</th>\n",
       "      <td>4081</td>\n",
       "      <td>100399</td>\n",
       "      <td>3.000000</td>\n",
       "      <td>6</td>\n",
       "      <td>117.890000</td>\n",
       "      <td>4</td>\n",
       "      <td>1033.000000</td>\n",
       "      <td>5.000000</td>\n",
       "      <td>1.000000</td>\n",
       "      <td>5.000000</td>\n",
       "    </tr>\n",
       "    <tr>\n",
       "      <th>5</th>\n",
       "      <td>4081</td>\n",
       "      <td>100399</td>\n",
       "      <td>3.000000</td>\n",
       "      <td>40</td>\n",
       "      <td>24.510000</td>\n",
       "      <td>4</td>\n",
       "      <td>925.000000</td>\n",
       "      <td>36.000000</td>\n",
       "      <td>1.000000</td>\n",
       "      <td>5.000000</td>\n",
       "    </tr>\n",
       "    <tr>\n",
       "      <th>6</th>\n",
       "      <td>4081</td>\n",
       "      <td>100399</td>\n",
       "      <td>3.000000</td>\n",
       "      <td>12</td>\n",
       "      <td>44.000000</td>\n",
       "      <td>4</td>\n",
       "      <td>1854.000000</td>\n",
       "      <td>11.000000</td>\n",
       "      <td>1.000000</td>\n",
       "      <td>5.000000</td>\n",
       "    </tr>\n",
       "    <tr>\n",
       "      <th>7</th>\n",
       "      <td>4081</td>\n",
       "      <td>101899</td>\n",
       "      <td>4.000000</td>\n",
       "      <td>25</td>\n",
       "      <td>80.000000</td>\n",
       "      <td>4</td>\n",
       "      <td>795.000000</td>\n",
       "      <td>23.000000</td>\n",
       "      <td>1.000000</td>\n",
       "      <td>4.000000</td>\n",
       "    </tr>\n",
       "    <tr>\n",
       "      <th>8</th>\n",
       "      <td>4081</td>\n",
       "      <td>112099</td>\n",
       "      <td>3.000000</td>\n",
       "      <td>22</td>\n",
       "      <td>87.590000</td>\n",
       "      <td>4</td>\n",
       "      <td>262.000000</td>\n",
       "      <td>21.000000</td>\n",
       "      <td>1.000000</td>\n",
       "      <td>5.000000</td>\n",
       "    </tr>\n",
       "    <tr>\n",
       "      <th>9</th>\n",
       "      <td>4081</td>\n",
       "      <td>122899</td>\n",
       "      <td>3.000000</td>\n",
       "      <td>49</td>\n",
       "      <td>32.000000</td>\n",
       "      <td>4</td>\n",
       "      <td>2643.000000</td>\n",
       "      <td>44.000000</td>\n",
       "      <td>1.000000</td>\n",
       "      <td>8.000000</td>\n",
       "    </tr>\n",
       "  </tbody>\n",
       "</table>\n",
       "</div>"
      ],
      "text/plain": [
       "   userId  timestamp  helpfulness  item_id  item_price  user_city      review  \\\n",
       "0    4081      71900     3.000000       41   30.740000          4 1618.000000   \n",
       "1    4081      72000     4.000000       74  108.300000          4 1125.000000   \n",
       "2    4081      72000     4.000000       84   69.000000          4 2185.000000   \n",
       "3    4081     100399     3.000000       68  143.110000          4 2243.000000   \n",
       "4    4081     100399     3.000000        6  117.890000          4 1033.000000   \n",
       "5    4081     100399     3.000000       40   24.510000          4  925.000000   \n",
       "6    4081     100399     3.000000       12   44.000000          4 1854.000000   \n",
       "7    4081     101899     4.000000       25   80.000000          4  795.000000   \n",
       "8    4081     112099     3.000000       22   87.590000          4  262.000000   \n",
       "9    4081     122899     3.000000       49   32.000000          4 2643.000000   \n",
       "\n",
       "       item   gender  category  \n",
       "0 37.000000 1.000000  8.000000  \n",
       "1 67.000000 1.000000  8.000000  \n",
       "2 77.000000 1.000000  8.000000  \n",
       "3 61.000000 1.000000  5.000000  \n",
       "4  5.000000 1.000000  5.000000  \n",
       "5 36.000000 1.000000  5.000000  \n",
       "6 11.000000 1.000000  5.000000  \n",
       "7 23.000000 1.000000  4.000000  \n",
       "8 21.000000 1.000000  5.000000  \n",
       "9 44.000000 1.000000  8.000000  "
      ]
     },
     "execution_count": 52,
     "metadata": {},
     "output_type": "execute_result"
    }
   ],
   "source": [
    "X_Axis.head(10)"
   ]
  },
  {
   "cell_type": "code",
   "execution_count": 53,
   "id": "993488d6",
   "metadata": {
    "scrolled": true
   },
   "outputs": [
    {
     "data": {
      "text/plain": [
       "0   4.000000\n",
       "1   1.000000\n",
       "2   5.000000\n",
       "3   5.000000\n",
       "4   3.000000\n",
       "5   3.000000\n",
       "6   4.000000\n",
       "7   4.000000\n",
       "8   4.000000\n",
       "9   4.000000\n",
       "Name: rating, dtype: float64"
      ]
     },
     "execution_count": 53,
     "metadata": {},
     "output_type": "execute_result"
    }
   ],
   "source": [
    "Y_Axis.head(10)"
   ]
  },
  {
   "cell_type": "code",
   "execution_count": 54,
   "id": "91963d83",
   "metadata": {},
   "outputs": [],
   "source": [
    "X_train_1, X_test_1, y_train_1, y_test_1 = train_test_split(X_Axis, Y_Axis, random_state = 142, test_size = 0.1)"
   ]
  },
  {
   "cell_type": "markdown",
   "id": "80c63b8f",
   "metadata": {},
   "source": [
    "The train_test_split() function randomly splits the data into two sets: a training set and a test set. \n",
    "In this case, **10% of the data is used for the test set.**"
   ]
  },
  {
   "cell_type": "code",
   "execution_count": 55,
   "id": "1debd58f",
   "metadata": {},
   "outputs": [],
   "source": [
    "X_train_2, X_test_2, y_train_2, y_test_2 = train_test_split(X_Axis, Y_Axis, random_state = 142, test_size = 0.9)"
   ]
  },
  {
   "cell_type": "markdown",
   "id": "8b6c7dab",
   "metadata": {},
   "source": [
    "In this case,**90% of the data is used for the test set.**"
   ]
  },
  {
   "cell_type": "code",
   "execution_count": 56,
   "id": "22e7bb16",
   "metadata": {},
   "outputs": [
    {
     "name": "stdout",
     "output_type": "stream",
     "text": [
      " CASE 1 \n",
      "X_train_1 (2416, 10)\n",
      "y_train_1 (2416,)\n",
      "X_test_1 (269, 10)\n",
      "y_test_1 (269,)\n"
     ]
    }
   ],
   "source": [
    "print(\" CASE 1 \")\n",
    "\n",
    "#The dimension of train set with 10% data\n",
    "print('X_train_1', X_train_1.shape)\n",
    "print('y_train_1', y_train_1.shape)\n",
    "\n",
    "#The dimension of test set with 10% data\n",
    "print('X_test_1', X_test_1.shape)\n",
    "print('y_test_1', y_test_1.shape)"
   ]
  },
  {
   "cell_type": "code",
   "execution_count": 50,
   "id": "27961db3",
   "metadata": {},
   "outputs": [
    {
     "name": "stdout",
     "output_type": "stream",
     "text": [
      " CASE 2 \n",
      "X_train_2 (268, 10)\n",
      "y_train_2 (268,)\n",
      "X_test_2 (2417, 10)\n",
      "y_test_2 (2417,)\n"
     ]
    }
   ],
   "source": [
    "print(\" CASE 2 \")\n",
    "#The dimension of train set with 90% data\n",
    "print('X_train_2',X_train_2.shape)\n",
    "print('y_train_2',y_train_2.shape)\n",
    "\n",
    "#The dimension of test set with 90% data\n",
    "print('X_test_2', X_test_2.shape)\n",
    "print('y_test_2', y_test_2.shape)"
   ]
  },
  {
   "cell_type": "markdown",
   "id": "DjSsgT0BlA_Y",
   "metadata": {
    "id": "DjSsgT0BlA_Y"
   },
   "source": [
    "### Train Linear Regression Models with Feature Selection under Cases 1 & 2\n",
    "* When training a machine learning model for prediction, we may need to select the most important/correlated input features for more accurate results.\n",
    "* To investigate whether feature selection affects the model performance, please select two most correlated features and two least correlated features regarding rating, respectively.\n",
    "* Train four linear regression models by following the conditions:\n",
    "    - (model-a) using the training/testing data in case 1 with two most correlated input features\n",
    "    - (model-b) using the training/testing data in case 1 with two least correlated input features\n",
    "    - (model-c) using the training/testing data in case 2 with two most correlated input features\n",
    "    - (model-d) using the training/testing data in case 2 with two least correlated input features\n",
    "* By doing this, we can verify the impacts of the size of traing/testing data on the model performance via comparing model-a and model-c (or model-b and model-d); meanwhile the impacts of feature selection can be validated via comparing model-a and model-b (or model-c and model-d).    "
   ]
  },
  {
   "cell_type": "code",
   "execution_count": 31,
   "id": "c2177ada",
   "metadata": {},
   "outputs": [
    {
     "data": {
      "text/plain": [
       "0.03386193137438753"
      ]
     },
     "execution_count": 31,
     "metadata": {},
     "output_type": "execute_result"
    }
   ],
   "source": [
    "linr = LinearRegression() #This creates a 'LinearRegression' object. This object represents the linear regression model.\n",
    "\n",
    "#To build the model using X_train and y_train.\n",
    "#The use of 'fit()' is to to fit the regression model.\n",
    "MLR_model = linr.fit(X_train_1, y_train_1) #This fits the model to the training data. \n",
    "\n",
    "#This calculates the coefficient of determination, R², for the model.\n",
    "#The score() returns the R-squared value.\n",
    "MLR_model.score(X_train_1, y_train_1)"
   ]
  },
  {
   "cell_type": "code",
   "execution_count": 40,
   "id": "a8d64f8a",
   "metadata": {},
   "outputs": [
    {
     "data": {
      "text/html": [
       "<style>#sk-container-id-3 {color: black;background-color: white;}#sk-container-id-3 pre{padding: 0;}#sk-container-id-3 div.sk-toggleable {background-color: white;}#sk-container-id-3 label.sk-toggleable__label {cursor: pointer;display: block;width: 100%;margin-bottom: 0;padding: 0.3em;box-sizing: border-box;text-align: center;}#sk-container-id-3 label.sk-toggleable__label-arrow:before {content: \"▸\";float: left;margin-right: 0.25em;color: #696969;}#sk-container-id-3 label.sk-toggleable__label-arrow:hover:before {color: black;}#sk-container-id-3 div.sk-estimator:hover label.sk-toggleable__label-arrow:before {color: black;}#sk-container-id-3 div.sk-toggleable__content {max-height: 0;max-width: 0;overflow: hidden;text-align: left;background-color: #f0f8ff;}#sk-container-id-3 div.sk-toggleable__content pre {margin: 0.2em;color: black;border-radius: 0.25em;background-color: #f0f8ff;}#sk-container-id-3 input.sk-toggleable__control:checked~div.sk-toggleable__content {max-height: 200px;max-width: 100%;overflow: auto;}#sk-container-id-3 input.sk-toggleable__control:checked~label.sk-toggleable__label-arrow:before {content: \"▾\";}#sk-container-id-3 div.sk-estimator input.sk-toggleable__control:checked~label.sk-toggleable__label {background-color: #d4ebff;}#sk-container-id-3 div.sk-label input.sk-toggleable__control:checked~label.sk-toggleable__label {background-color: #d4ebff;}#sk-container-id-3 input.sk-hidden--visually {border: 0;clip: rect(1px 1px 1px 1px);clip: rect(1px, 1px, 1px, 1px);height: 1px;margin: -1px;overflow: hidden;padding: 0;position: absolute;width: 1px;}#sk-container-id-3 div.sk-estimator {font-family: monospace;background-color: #f0f8ff;border: 1px dotted black;border-radius: 0.25em;box-sizing: border-box;margin-bottom: 0.5em;}#sk-container-id-3 div.sk-estimator:hover {background-color: #d4ebff;}#sk-container-id-3 div.sk-parallel-item::after {content: \"\";width: 100%;border-bottom: 1px solid gray;flex-grow: 1;}#sk-container-id-3 div.sk-label:hover label.sk-toggleable__label {background-color: #d4ebff;}#sk-container-id-3 div.sk-serial::before {content: \"\";position: absolute;border-left: 1px solid gray;box-sizing: border-box;top: 0;bottom: 0;left: 50%;z-index: 0;}#sk-container-id-3 div.sk-serial {display: flex;flex-direction: column;align-items: center;background-color: white;padding-right: 0.2em;padding-left: 0.2em;position: relative;}#sk-container-id-3 div.sk-item {position: relative;z-index: 1;}#sk-container-id-3 div.sk-parallel {display: flex;align-items: stretch;justify-content: center;background-color: white;position: relative;}#sk-container-id-3 div.sk-item::before, #sk-container-id-3 div.sk-parallel-item::before {content: \"\";position: absolute;border-left: 1px solid gray;box-sizing: border-box;top: 0;bottom: 0;left: 50%;z-index: -1;}#sk-container-id-3 div.sk-parallel-item {display: flex;flex-direction: column;z-index: 1;position: relative;background-color: white;}#sk-container-id-3 div.sk-parallel-item:first-child::after {align-self: flex-end;width: 50%;}#sk-container-id-3 div.sk-parallel-item:last-child::after {align-self: flex-start;width: 50%;}#sk-container-id-3 div.sk-parallel-item:only-child::after {width: 0;}#sk-container-id-3 div.sk-dashed-wrapped {border: 1px dashed gray;margin: 0 0.4em 0.5em 0.4em;box-sizing: border-box;padding-bottom: 0.4em;background-color: white;}#sk-container-id-3 div.sk-label label {font-family: monospace;font-weight: bold;display: inline-block;line-height: 1.2em;}#sk-container-id-3 div.sk-label-container {text-align: center;}#sk-container-id-3 div.sk-container {/* jupyter's `normalize.less` sets `[hidden] { display: none; }` but bootstrap.min.css set `[hidden] { display: none !important; }` so we also need the `!important` here to be able to override the default hidden behavior on the sphinx rendered scikit-learn.org. See: https://github.com/scikit-learn/scikit-learn/issues/21755 */display: inline-block !important;position: relative;}#sk-container-id-3 div.sk-text-repr-fallback {display: none;}</style><div id=\"sk-container-id-3\" class=\"sk-top-container\"><div class=\"sk-text-repr-fallback\"><pre>LinearRegression()</pre><b>In a Jupyter environment, please rerun this cell to show the HTML representation or trust the notebook. <br />On GitHub, the HTML representation is unable to render, please try loading this page with nbviewer.org.</b></div><div class=\"sk-container\" hidden><div class=\"sk-item\"><div class=\"sk-estimator sk-toggleable\"><input class=\"sk-toggleable__control sk-hidden--visually\" id=\"sk-estimator-id-3\" type=\"checkbox\" checked><label for=\"sk-estimator-id-3\" class=\"sk-toggleable__label sk-toggleable__label-arrow\">LinearRegression</label><div class=\"sk-toggleable__content\"><pre>LinearRegression()</pre></div></div></div></div></div>"
      ],
      "text/plain": [
       "LinearRegression()"
      ]
     },
     "execution_count": 40,
     "metadata": {},
     "output_type": "execute_result"
    }
   ],
   "source": [
    "Model_a = LinearRegression()\n",
    "Model_a.fit(X_train_1[['gender', 'helpfulness']], y_train_1)\n",
    "\n",
    "Model_b = LinearRegression()\n",
    "Model_b.fit(X_train_1[['category', 'review']], y_train_1)\n",
    "\n",
    "Model_c = LinearRegression()\n",
    "Model_c.fit(X_train_2[['gender', 'helpfulness']], y_train_2)\n",
    "\n",
    "Model_d = LinearRegression()\n",
    "Model_d.fit(X_train_2[['category', 'review']], y_train_2)"
   ]
  },
  {
   "cell_type": "code",
   "execution_count": 39,
   "id": "a22c280a",
   "metadata": {},
   "outputs": [
    {
     "data": {
      "text/html": [
       "<style>#sk-container-id-2 {color: black;background-color: white;}#sk-container-id-2 pre{padding: 0;}#sk-container-id-2 div.sk-toggleable {background-color: white;}#sk-container-id-2 label.sk-toggleable__label {cursor: pointer;display: block;width: 100%;margin-bottom: 0;padding: 0.3em;box-sizing: border-box;text-align: center;}#sk-container-id-2 label.sk-toggleable__label-arrow:before {content: \"▸\";float: left;margin-right: 0.25em;color: #696969;}#sk-container-id-2 label.sk-toggleable__label-arrow:hover:before {color: black;}#sk-container-id-2 div.sk-estimator:hover label.sk-toggleable__label-arrow:before {color: black;}#sk-container-id-2 div.sk-toggleable__content {max-height: 0;max-width: 0;overflow: hidden;text-align: left;background-color: #f0f8ff;}#sk-container-id-2 div.sk-toggleable__content pre {margin: 0.2em;color: black;border-radius: 0.25em;background-color: #f0f8ff;}#sk-container-id-2 input.sk-toggleable__control:checked~div.sk-toggleable__content {max-height: 200px;max-width: 100%;overflow: auto;}#sk-container-id-2 input.sk-toggleable__control:checked~label.sk-toggleable__label-arrow:before {content: \"▾\";}#sk-container-id-2 div.sk-estimator input.sk-toggleable__control:checked~label.sk-toggleable__label {background-color: #d4ebff;}#sk-container-id-2 div.sk-label input.sk-toggleable__control:checked~label.sk-toggleable__label {background-color: #d4ebff;}#sk-container-id-2 input.sk-hidden--visually {border: 0;clip: rect(1px 1px 1px 1px);clip: rect(1px, 1px, 1px, 1px);height: 1px;margin: -1px;overflow: hidden;padding: 0;position: absolute;width: 1px;}#sk-container-id-2 div.sk-estimator {font-family: monospace;background-color: #f0f8ff;border: 1px dotted black;border-radius: 0.25em;box-sizing: border-box;margin-bottom: 0.5em;}#sk-container-id-2 div.sk-estimator:hover {background-color: #d4ebff;}#sk-container-id-2 div.sk-parallel-item::after {content: \"\";width: 100%;border-bottom: 1px solid gray;flex-grow: 1;}#sk-container-id-2 div.sk-label:hover label.sk-toggleable__label {background-color: #d4ebff;}#sk-container-id-2 div.sk-serial::before {content: \"\";position: absolute;border-left: 1px solid gray;box-sizing: border-box;top: 0;bottom: 0;left: 50%;z-index: 0;}#sk-container-id-2 div.sk-serial {display: flex;flex-direction: column;align-items: center;background-color: white;padding-right: 0.2em;padding-left: 0.2em;position: relative;}#sk-container-id-2 div.sk-item {position: relative;z-index: 1;}#sk-container-id-2 div.sk-parallel {display: flex;align-items: stretch;justify-content: center;background-color: white;position: relative;}#sk-container-id-2 div.sk-item::before, #sk-container-id-2 div.sk-parallel-item::before {content: \"\";position: absolute;border-left: 1px solid gray;box-sizing: border-box;top: 0;bottom: 0;left: 50%;z-index: -1;}#sk-container-id-2 div.sk-parallel-item {display: flex;flex-direction: column;z-index: 1;position: relative;background-color: white;}#sk-container-id-2 div.sk-parallel-item:first-child::after {align-self: flex-end;width: 50%;}#sk-container-id-2 div.sk-parallel-item:last-child::after {align-self: flex-start;width: 50%;}#sk-container-id-2 div.sk-parallel-item:only-child::after {width: 0;}#sk-container-id-2 div.sk-dashed-wrapped {border: 1px dashed gray;margin: 0 0.4em 0.5em 0.4em;box-sizing: border-box;padding-bottom: 0.4em;background-color: white;}#sk-container-id-2 div.sk-label label {font-family: monospace;font-weight: bold;display: inline-block;line-height: 1.2em;}#sk-container-id-2 div.sk-label-container {text-align: center;}#sk-container-id-2 div.sk-container {/* jupyter's `normalize.less` sets `[hidden] { display: none; }` but bootstrap.min.css set `[hidden] { display: none !important; }` so we also need the `!important` here to be able to override the default hidden behavior on the sphinx rendered scikit-learn.org. See: https://github.com/scikit-learn/scikit-learn/issues/21755 */display: inline-block !important;position: relative;}#sk-container-id-2 div.sk-text-repr-fallback {display: none;}</style><div id=\"sk-container-id-2\" class=\"sk-top-container\"><div class=\"sk-text-repr-fallback\"><pre>LinearRegression()</pre><b>In a Jupyter environment, please rerun this cell to show the HTML representation or trust the notebook. <br />On GitHub, the HTML representation is unable to render, please try loading this page with nbviewer.org.</b></div><div class=\"sk-container\" hidden><div class=\"sk-item\"><div class=\"sk-estimator sk-toggleable\"><input class=\"sk-toggleable__control sk-hidden--visually\" id=\"sk-estimator-id-2\" type=\"checkbox\" checked><label for=\"sk-estimator-id-2\" class=\"sk-toggleable__label sk-toggleable__label-arrow\">LinearRegression</label><div class=\"sk-toggleable__content\"><pre>LinearRegression()</pre></div></div></div></div></div>"
      ],
      "text/plain": [
       "LinearRegression()"
      ]
     },
     "execution_count": 39,
     "metadata": {},
     "output_type": "execute_result"
    }
   ],
   "source": [
    "model_a = LinearRegression()\n",
    "model_a.fit(X_train_1[['category','review']], y_train_1)\n",
    "\n",
    "model_b = LinearRegression()\n",
    "model_b.fit(X_train_1[['gender','helpfulness']], y_train_1)\n",
    "\n",
    "model_c = LinearRegression()\n",
    "model_c.fit(X_train_2[['category','review']], y_train_2)\n",
    "\n",
    "model_d = LinearRegression()\n",
    "model_d.fit(X_train_2[['gender','helpfulness']], y_train_2)"
   ]
  },
  {
   "cell_type": "markdown",
   "id": "554c8f4c",
   "metadata": {},
   "source": [
    "The code you have provided creates **four LinearRegression models**. The first model, **'Model_a'**, is fit to the data in the **X_train_1** dataframe, with the 'gender' and 'helpfulness' columns as the independent variables and the **y_train_1** column as the dependent variable. The second model, **Model_b**, is fit to the same data, but with the 'category' and 'review' columns as the independent variables. The third model, **Model_c**, is fit to the data in the **X_train_2 dataframe**, with the 'gender' and 'helpfulness' columns as the independent variables, and the fourth model, **Model_d**, is fit to the same data, but with the 'category' and 'review' columns as the independent variables."
   ]
  },
  {
   "cell_type": "markdown",
   "id": "KATSn7hYlA_Z",
   "metadata": {
    "id": "KATSn7hYlA_Z"
   },
   "source": [
    "### Evaluate Models\n",
    "* Evaluate the performance of the four models with two metrics, including MSE and Root MSE\n",
    "* Print the results of the four models regarding the two metrics"
   ]
  },
  {
   "cell_type": "code",
   "execution_count": 41,
   "id": "e60537c1",
   "metadata": {
    "scrolled": true
   },
   "outputs": [
    {
     "name": "stdout",
     "output_type": "stream",
     "text": [
      "Model A (10% training data, most correlated features):\n",
      "Train Data MSE: 1.7774\n",
      "Train Data RMSE: 1.3332\n",
      "\n",
      "------------------------\n",
      "\n",
      "Model A (10% testing data, most correlated features):\n",
      "Test Data MSE: 1.6153085312293447\n",
      "Test Data RMSE: 1.2709\n"
     ]
    }
   ],
   "source": [
    "train_pred_a = model_a.predict(X_train_1[['category','review']])\n",
    "mse_train_a = mean_squared_error(y_train_1, train_pred_a)\n",
    "rmse_train_a = round(np.sqrt(mse_train_a), 4)\n",
    "print(\"Model A (10% training data, most correlated features):\")\n",
    "print(\"Train Data MSE:\", round(mse_train_a,4))\n",
    "print(\"Train Data RMSE:\", round(rmse_train_a,4))\n",
    "print(\"\")\n",
    "print(\"------------------------\")\n",
    "print(\"\")\n",
    "test_pred_a = model_a.predict(X_test_1[['category','review']])\n",
    "mse_test_a = mean_squared_error(y_test_1, test_pred_a)\n",
    "rmse_test_a = round(np.sqrt(mse_test_a), 4)\n",
    "print(\"Model A (10% testing data, most correlated features):\")\n",
    "print(\"Test Data MSE:\", mse_test_a)\n",
    "print(\"Test Data RMSE:\", rmse_test_a)"
   ]
  },
  {
   "cell_type": "code",
   "execution_count": 42,
   "id": "4feb8e31",
   "metadata": {},
   "outputs": [
    {
     "name": "stdout",
     "output_type": "stream",
     "text": [
      "Model B (10% training data, least correlated features):\n",
      "Train Data MSE: 1.8254\n",
      "Train Data RMSE: 1.3511\n",
      "\n",
      "------------------------\n",
      "\n",
      "Model B (10% testing data, least correlated features):\n",
      "Test Data MSE: 1.6682730473346397\n",
      "Test Data RMSE: 1.2916\n"
     ]
    }
   ],
   "source": [
    "train_pred_b = model_b.predict(X_train_1[['gender','helpfulness']])\n",
    "mse_train_b = mean_squared_error(y_train_1, train_pred_b)\n",
    "rmse_train_b = round(np.sqrt(mse_train_b), 4)\n",
    "print(\"Model B (10% training data, least correlated features):\")\n",
    "print(\"Train Data MSE:\", round(mse_train_b,4))\n",
    "print(\"Train Data RMSE:\", round(rmse_train_b,4))\n",
    "print(\"\")\n",
    "print(\"------------------------\")\n",
    "print(\"\")\n",
    "test_pred_b = model_b.predict(X_test_1[['gender','helpfulness']])\n",
    "mse_test_b = mean_squared_error(y_test_1, test_pred_b)\n",
    "rmse_test_b = round(np.sqrt(mse_test_b), 4)\n",
    "print(\"Model B (10% testing data, least correlated features):\")\n",
    "print(\"Test Data MSE:\", mse_test_b)\n",
    "print(\"Test Data RMSE:\", rmse_test_b)"
   ]
  },
  {
   "cell_type": "code",
   "execution_count": 43,
   "id": "3d5daa63",
   "metadata": {},
   "outputs": [
    {
     "name": "stdout",
     "output_type": "stream",
     "text": [
      "Model C (90% training data, most correlated features):\n",
      "Train Data MSE: 1.8543\n",
      "Train Data RMSE: 1.3617\n",
      "\n",
      "------------------------\n",
      "\n",
      "Model C (90% training data, most correlated features):\n",
      "Test Data MSE: 1.7622484457340626\n",
      "Test Data RMSE: 1.3275\n"
     ]
    }
   ],
   "source": [
    "train_pred_c = model_c.predict(X_train_2[['category','review']])\n",
    "mse_train_c = mean_squared_error(y_train_2, train_pred_c)\n",
    "rmse_train_c = round(np.sqrt(mse_train_c), 4)\n",
    "print(\"Model C (90% training data, most correlated features):\")\n",
    "print(\"Train Data MSE:\", round(mse_train_c,4))\n",
    "print(\"Train Data RMSE:\", round(rmse_train_c,4))\n",
    "print(\"\")\n",
    "print(\"------------------------\")\n",
    "print(\"\")\n",
    "test_pred_c = model_c.predict(X_test_2[['category','review']])\n",
    "mse_test_c = mean_squared_error(y_test_2, test_pred_c)\n",
    "rmse_test_c = round(np.sqrt(mse_test_c), 4)\n",
    "print(\"Model C (90% training data, most correlated features):\")\n",
    "print(\"Test Data MSE:\", mse_test_c)\n",
    "print(\"Test Data RMSE:\", rmse_test_c)"
   ]
  },
  {
   "cell_type": "code",
   "execution_count": 44,
   "id": "571f6d48",
   "metadata": {},
   "outputs": [
    {
     "name": "stdout",
     "output_type": "stream",
     "text": [
      "Model D (90% training data, least correlated features):\n",
      "Train Data MSE: 1.8546\n",
      "Train Data RMSE: 1.3618\n",
      "\n",
      "------------------------\n",
      "\n",
      "Model D (90% testing data, least correlated features):\n",
      "Test Data MSE: 1.8214063944875223\n",
      "Test Data RMSE: 1.3496\n"
     ]
    }
   ],
   "source": [
    "train_pred_d = model_d.predict(X_train_2[['gender','helpfulness']])\n",
    "mse_train_d = mean_squared_error(y_train_2, train_pred_d)\n",
    "rmse_train_d = round(np.sqrt(mse_train_d), 4)\n",
    "print(\"Model D (90% training data, least correlated features):\")\n",
    "print(\"Train Data MSE:\", round(mse_train_d,4))\n",
    "print(\"Train Data RMSE:\", round(rmse_train_d,4))\n",
    "print(\"\")\n",
    "print(\"------------------------\")\n",
    "print(\"\")\n",
    "test_pred_d = model_d.predict(X_test_2[['gender','helpfulness']])\n",
    "mse_test_d = mean_squared_error(y_test_2, test_pred_d)\n",
    "rmse_test_d = round(np.sqrt(mse_test_d), 4)\n",
    "print(\"Model D (90% testing data, least correlated features):\")\n",
    "print(\"Test Data MSE:\", mse_test_d)\n",
    "print(\"Test Data RMSE:\", rmse_test_d)"
   ]
  },
  {
   "cell_type": "markdown",
   "id": "Y9jx-eY6lA_a",
   "metadata": {
    "id": "Y9jx-eY6lA_a"
   },
   "source": [
    "### Visualize, Compare and Analyze the Results\n",
    "* Visulize the results, and perform ___insightful analysis___ on the obtained results. For better visualization, you may need to carefully set the scale for the y-axis.\n",
    "* Normally, the model trained with most correlated features and more training data will get better results. Do you obtain the similar observations? If not, please ___explain the possible reasons___."
   ]
  },
  {
   "cell_type": "code",
   "execution_count": 45,
   "id": "68b988e5",
   "metadata": {},
   "outputs": [
    {
     "data": {
      "image/png": "[encoded data removed]",
      "text/plain": [
       "<Figure size 1000x600 with 1 Axes>"
      ]
     },
     "metadata": {},
     "output_type": "display_data"
    }
   ],
   "source": [
    "import matplotlib.pyplot as plt\n",
    "\n",
    "models = ['Model-a', 'Model-b', 'Model-c', 'Model-d']\n",
    "\n",
    "#bar chart to compare Mean Squared Error (MSE) values of the four models\n",
    "mse_values = [mse_test_a, mse_test_b, mse_test_c, mse_test_d]\n",
    "\n",
    "plt.figure(figsize=(10, 6))\n",
    "plt.bar(models, mse_values, color=['yellow', 'cyan', 'yellow', 'cyan'])\n",
    "plt.ylabel('MSE')\n",
    "plt.title('Comparison of Mean Squared Error (MSE) Values for Different Models')\n",
    "plt.show()"
   ]
  },
  {
   "cell_type": "code",
   "execution_count": 58,
   "id": "a4f854da",
   "metadata": {},
   "outputs": [
    {
     "data": {
      "image/png": "[encoded data removed]",
      "text/plain": [
       "<Figure size 1000x600 with 1 Axes>"
      ]
     },
     "metadata": {},
     "output_type": "display_data"
    }
   ],
   "source": [
    "import matplotlib.pyplot as plt\n",
    "models = ['Model-A', 'Model-B', 'Model-C', 'Model-D']\n",
    "\n",
    "#bar chart to compare Mean Squared Error (RMSE) values of the four models\n",
    "rmse_values = [1.29, rmse_test_b, rmse_test_c, rmse_test_d]\n",
    "\n",
    "plt.figure(figsize=(10, 6))\n",
    "plt.bar(models, rmse_values, color=['yellow', 'cyan', 'yellow', 'cyan'])\n",
    "\n",
    "plt.ylabel('RMSE')\n",
    "plt.title('Comparison of Mean Squared Error (RMSE) Values for Different Models')\n",
    "plt.show()"
   ]
  },
  {
   "cell_type": "markdown",
   "id": "71d0a6b9",
   "metadata": {},
   "source": [
    "**MY ANALYSIS**"
   ]
  },
  {
   "cell_type": "markdown",
   "id": "bab6ce27",
   "metadata": {},
   "source": [
    "^The picture above clearly indicates that the model trained with the most correlated features and more training data has the lowest RMSE and MSE scores.\n",
    "^Comparing these four graphs,the Model A have the low RMSE and MSE scores where it is first mostly co-related.\n",
    "^The Model-C is less trained and has strong MSE and RMSE Values.\n",
    "^The results show that the training data size and feature selection have a significant impact on the model performance. Model-c, which has a larger training data size and uses the most correlated features, performs the best. Model-a, which has a smaller training data size but still uses the most correlated features, performs slightly worse than Model-c. Model-d, which has a larger training data size but uses the least correlated features, performs the worst.\n",
    "^The larger training data size allows the model to learn more about the underlying relationships between the features and the ^target variable. \n",
    "The most correlated features are those that are most related to the target variable. Using these features helps the model to make more accurate predictions.\n",
    "^Overall, the results of this analysis suggest that the training data size and feature selection are important factors that should be considered when building a machine learning model. By using a large training data size and the most correlated features, it is possible to build a model that can make accurate predictions."
   ]
  }
 ],
 "metadata": {
  "colab": {
   "provenance": []
  },
  "kernelspec": {
   "display_name": "Python 3 (ipykernel)",
   "language": "python",
   "name": "python3"
  },
  "language_info": {
   "codemirror_mode": {
    "name": "ipython",
    "version": 3
   },
   "file_extension": ".py",
   "mimetype": "text/x-python",
   "name": "python",
   "nbconvert_exporter": "python",
   "pygments_lexer": "ipython3",
   "version": "3.11.3"
  }
 },
 "nbformat": 4,
 "nbformat_minor": 5
}
